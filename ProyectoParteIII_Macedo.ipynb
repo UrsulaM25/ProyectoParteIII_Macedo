{
  "nbformat": 4,
  "nbformat_minor": 0,
  "metadata": {
    "colab": {
      "provenance": [],
      "toc_visible": true,
      "authorship_tag": "ABX9TyM1SzoWef7LuuIwUcsqAJu7",
      "include_colab_link": true
    },
    "kernelspec": {
      "name": "python3",
      "display_name": "Python 3"
    },
    "language_info": {
      "name": "python"
    }
  },
  "cells": [
    {
      "cell_type": "markdown",
      "metadata": {
        "id": "view-in-github",
        "colab_type": "text"
      },
      "source": [
        "<a href=\"https://colab.research.google.com/github/UrsulaM25/ProyectoParteIII_Macedo/blob/main/ProyectoParteIII_Macedo.ipynb\" target=\"_parent\"><img src=\"https://colab.research.google.com/assets/colab-badge.svg\" alt=\"Open In Colab\"/></a>"
      ]
    },
    {
      "cell_type": "markdown",
      "source": [
        "## 1.Introducción"
      ],
      "metadata": {
        "id": "NcAGwyMaw3RU"
      }
    },
    {
      "cell_type": "markdown",
      "source": [
        "Analizar la demanda de energía eléctrica permite detectar tendencias y estacionalidades. Esta información es muy útil para gestionar la demanda de manera eficiente, prever picos de consumo y planificar en consecuencia reduciendo riesgos de desabastecimiento.\n",
        "\n",
        "Los sectores industriales y comeraciales suelen concentrar su actividad en loss dias habiles, incrementando su demanda durante las horas pico (18 a 22 Hs).\n",
        "La planificación y asignación de los recursos energéticos pueden verse afectadas si la demanda en picos no se gestiona correctamente entre días hábiles y no hábiles y puede generar sobrecostos por generación innecesaria o incluso riesgos de corte de suministro.\n",
        "\n",
        "* Data Set\n",
        "\n",
        "Se seleccionó un dataframe que contiene datos de demanda de energía eléctrica de Argentina desde el año 2022 hasta febrero de 2025, los mismos provienen de la página de CAMMESA (organismo encargado de operar el mercado eléctrico mayorista de Argentina). Sus columnas contienen los siguientes datos:\n",
        "\n",
        "  * Año: año de demanda\n",
        "  * mes: mes de demanda, formato mes-año\n",
        "  * nummes\n",
        "  * numdía\n",
        "  * Tipodedía: hábil, no hábil\n",
        "  * día: Dia de la semana\n",
        "  * fecha: formato día/mes/año\n",
        "  * hora\n",
        "  * GUMEM: Demanda de grandes usuarios en MWh, la misma está compuesta por la demanda de la categoría GUMA (Gran Usuario Mayorista Autogenerador) como ejemplo se pueden mencionar las demandas de las empresas Arcor, Acindar, aysa, molinos cañuelas, ypf entre otras.\n",
        "  * Distribuidor: La categoría distribuidor comprende la demanda en MWh de la demanda estacional y las GUMEs (Grandes Usuarios Menores) como ejemplo se pueden mencionar cooperativas, Edelap, Edenor, Edesur, EPEC entre otros.\n",
        "  * DEMANDALOCAL: La demanda local es la suma de las demandas GUMEM y Distribuidor\n",
        "\n",
        "  * Demanda en MWh de las siguientes provincias: BUENOSAIRES,CATAMARCA,CHACO,CHUBUT,CORDOBA,CORRIENTES,ENTRERIOS,FORMOSA,JUJUY,LAPAMPA,LARIOJA,MENDOZA,MISIONES,NEUQUEN,RIONEGRO,SALTA,SANJUAN,SANLUIS SANTACRUZ,SANTAFE,SGODELESTERO,TUCUMAN"
      ],
      "metadata": {
        "id": "D7AE80mBxkcG"
      }
    },
    {
      "cell_type": "markdown",
      "source": [
        "# 1.1 Importar Librerias"
      ],
      "metadata": {
        "id": "J_mOqfXSp19k"
      }
    },
    {
      "cell_type": "code",
      "source": [
        "#importacion de librerias\n",
        "import pandas as pd\n",
        "import numpy as np\n",
        "import matplotlib.pyplot as plt\n",
        "import seaborn as sns\n",
        "from sklearn.datasets import fetch_california_housing\n",
        "from sklearn.model_selection import train_test_split\n",
        "from sklearn.ensemble import RandomForestRegressor\n",
        "from sklearn.metrics import mean_absolute_error, mean_squared_error, r2_score\n",
        "from sklearn.preprocessing import StandardScaler\n",
        "from sklearn.compose import ColumnTransformer\n",
        "from sklearn.pipeline import Pipeline\n",
        "from sklearn.utils import resample\n",
        "from sklearn.preprocessing import OneHotEncoder\n",
        "from sklearn.ensemble import RandomForestClassifier\n",
        "from sklearn.feature_selection import SelectFromModel\n",
        "from sklearn.metrics import accuracy_score, confusion_matrix, classification_report, roc_curve, auc, roc_auc_score\n",
        "from sklearn.metrics import roc_curve, auc\n",
        "\n",
        "#Libreria para visualizacion datos nulos\n",
        "import missingno as msno\n",
        "\n",
        "#Libreria para eliminar warnings\n",
        "import warnings\n",
        "warnings.filterwarnings('ignore')\n",
        "\n",
        "#Libreria de Scikit-learn para imputacion\n",
        "from sklearn.impute import SimpleImputer, KNNImputer\n",
        "from sklearn.model_selection import train_test_split\n",
        "\n",
        "#Configuraciones adicionales (opcional)\n",
        "pd.set_option('display.max_columns', None)\n",
        "sns.set_style('whitegrid')\n",
        "plt.rcParams['figure.figsize'] = (10, 6)"
      ],
      "metadata": {
        "id": "BScQD7RA-PYs"
      },
      "execution_count": 237,
      "outputs": []
    },
    {
      "cell_type": "markdown",
      "source": [
        "# 1.2 Carga de Datos"
      ],
      "metadata": {
        "id": "9tlEWgqcFS0M"
      }
    },
    {
      "cell_type": "code",
      "source": [
        "df = pd.read_csv (\"https://raw.githubusercontent.com/UrsulaM25/ProyectoParteIII_Macedo/refs/heads/main/BaseDemandaDIARIA_EE_por_region_finalCVS.csv\", delimiter=\";\",decimal=\",\")  # Especifico el delimitador y agrego el CSV"
      ],
      "metadata": {
        "id": "TCSiU8bfqhSi"
      },
      "execution_count": 169,
      "outputs": []
    },
    {
      "cell_type": "code",
      "source": [
        "df.shape #tamaño de dataframe"
      ],
      "metadata": {
        "colab": {
          "base_uri": "https://localhost:8080/"
        },
        "id": "UZn4LdmTwdgj",
        "outputId": "8933b2f8-6362-4c06-c647-2a1b61cf6bf1"
      },
      "execution_count": 170,
      "outputs": [
        {
          "output_type": "execute_result",
          "data": {
            "text/plain": [
              "(27720, 33)"
            ]
          },
          "metadata": {},
          "execution_count": 170
        }
      ]
    },
    {
      "cell_type": "code",
      "source": [
        "df.size #Cantidad de datos"
      ],
      "metadata": {
        "colab": {
          "base_uri": "https://localhost:8080/"
        },
        "id": "jIU-Wa_mwjYo",
        "outputId": "894738c7-ce12-43c7-90ab-c2e625ea0eed"
      },
      "execution_count": 171,
      "outputs": [
        {
          "output_type": "execute_result",
          "data": {
            "text/plain": [
              "914760"
            ]
          },
          "metadata": {},
          "execution_count": 171
        }
      ]
    },
    {
      "cell_type": "code",
      "source": [
        "df.info () #Info df"
      ],
      "metadata": {
        "id": "QhGGvS_GwmRZ",
        "outputId": "1448d568-fe75-41c1-d21f-7cc9f34e4617",
        "colab": {
          "base_uri": "https://localhost:8080/"
        }
      },
      "execution_count": 172,
      "outputs": [
        {
          "output_type": "stream",
          "name": "stdout",
          "text": [
            "<class 'pandas.core.frame.DataFrame'>\n",
            "RangeIndex: 27720 entries, 0 to 27719\n",
            "Data columns (total 33 columns):\n",
            " #   Column        Non-Null Count  Dtype  \n",
            "---  ------        --------------  -----  \n",
            " 0   AÑO           27720 non-null  int64  \n",
            " 1   MES           27720 non-null  object \n",
            " 2   NUMMES        27720 non-null  int64  \n",
            " 3   NUMDIA        27720 non-null  int64  \n",
            " 4   TIPODIA       27720 non-null  object \n",
            " 5   DIA           27720 non-null  object \n",
            " 6   FECHA         27720 non-null  object \n",
            " 7   HORA          27720 non-null  int64  \n",
            " 8   GUMEM         27720 non-null  float64\n",
            " 9   DISTRIBUIDOR  27720 non-null  float64\n",
            " 10  DEMANDALOCAL  27720 non-null  float64\n",
            " 11  BUENOSAIRES   27720 non-null  float64\n",
            " 12  CATAMARCA     27720 non-null  float64\n",
            " 13  CHACO         27720 non-null  float64\n",
            " 14  CHUBUT        27720 non-null  float64\n",
            " 15  CORDOBA       27720 non-null  float64\n",
            " 16  CORRIENTES    27720 non-null  float64\n",
            " 17  ENTRERIOS     27720 non-null  float64\n",
            " 18  FORMOSA       27720 non-null  float64\n",
            " 19  JUJUY         27720 non-null  float64\n",
            " 20  LAPAMPA       27720 non-null  float64\n",
            " 21  LARIOJA       27720 non-null  float64\n",
            " 22  MENDOZA       27720 non-null  float64\n",
            " 23  MISIONES      27720 non-null  float64\n",
            " 24  NEUQUEN       27720 non-null  float64\n",
            " 25  RIONEGRO      27720 non-null  float64\n",
            " 26  SALTA         27720 non-null  float64\n",
            " 27  SANJUAN       27720 non-null  float64\n",
            " 28  SANLUIS       27720 non-null  float64\n",
            " 29  SANTACRUZ     27720 non-null  float64\n",
            " 30  SANTAFE       27720 non-null  float64\n",
            " 31  SGODELESTERO  27720 non-null  float64\n",
            " 32  TUCUMAN       27720 non-null  float64\n",
            "dtypes: float64(25), int64(4), object(4)\n",
            "memory usage: 7.0+ MB\n"
          ]
        }
      ]
    },
    {
      "cell_type": "markdown",
      "source": [
        "## 2.Hipótesis"
      ],
      "metadata": {
        "id": "VI1GaFIqw7w_"
      }
    },
    {
      "cell_type": "markdown",
      "source": [
        "Probabilidad de que una provincia experimente alta demanda en horas pico (18 a 22 hs) depende del tipo de día (hábil o no hábil)"
      ],
      "metadata": {
        "id": "8BsJ2iYZossg"
      }
    },
    {
      "cell_type": "markdown",
      "source": [
        "## 3.Análisis Exploratorio de Datos: EDA"
      ],
      "metadata": {
        "id": "AlPQBCB7xBba"
      }
    },
    {
      "cell_type": "markdown",
      "source": [
        "Verificar formatos y/o aplicar cambios"
      ],
      "metadata": {
        "id": "Q7b6YV501yyI"
      }
    },
    {
      "cell_type": "code",
      "source": [
        "print(df.dtypes)  # Verificar el tipo de datos"
      ],
      "metadata": {
        "id": "4oSoxeH6wn_n",
        "colab": {
          "base_uri": "https://localhost:8080/"
        },
        "outputId": "4c06b78f-289b-407b-efa2-3691590c079b"
      },
      "execution_count": 173,
      "outputs": [
        {
          "output_type": "stream",
          "name": "stdout",
          "text": [
            "AÑO               int64\n",
            "MES              object\n",
            "NUMMES            int64\n",
            "NUMDIA            int64\n",
            "TIPODIA          object\n",
            "DIA              object\n",
            "FECHA            object\n",
            "HORA              int64\n",
            "GUMEM           float64\n",
            "DISTRIBUIDOR    float64\n",
            "DEMANDALOCAL    float64\n",
            "BUENOSAIRES     float64\n",
            "CATAMARCA       float64\n",
            "CHACO           float64\n",
            "CHUBUT          float64\n",
            "CORDOBA         float64\n",
            "CORRIENTES      float64\n",
            "ENTRERIOS       float64\n",
            "FORMOSA         float64\n",
            "JUJUY           float64\n",
            "LAPAMPA         float64\n",
            "LARIOJA         float64\n",
            "MENDOZA         float64\n",
            "MISIONES        float64\n",
            "NEUQUEN         float64\n",
            "RIONEGRO        float64\n",
            "SALTA           float64\n",
            "SANJUAN         float64\n",
            "SANLUIS         float64\n",
            "SANTACRUZ       float64\n",
            "SANTAFE         float64\n",
            "SGODELESTERO    float64\n",
            "TUCUMAN         float64\n",
            "dtype: object\n"
          ]
        }
      ]
    },
    {
      "cell_type": "markdown",
      "source": [
        "Se cambian los tipos de datos enteros y la fecha"
      ],
      "metadata": {
        "id": "MIfoMqSZ2KU0"
      }
    },
    {
      "cell_type": "code",
      "source": [
        "df[\"FECHA\"] = pd.to_datetime(df[\"FECHA\"], format=\"%d/%m/%Y\") #Cambiar tipo de dato de fecha a fecha\n",
        "\n",
        "df.dtypes['FECHA']"
      ],
      "metadata": {
        "colab": {
          "base_uri": "https://localhost:8080/"
        },
        "id": "SmBl5tMN2G59",
        "outputId": "50a75f8d-da81-483d-9fbf-7e44580fa848"
      },
      "execution_count": 174,
      "outputs": [
        {
          "output_type": "execute_result",
          "data": {
            "text/plain": [
              "dtype('<M8[ns]')"
            ]
          },
          "metadata": {},
          "execution_count": 174
        }
      ]
    },
    {
      "cell_type": "code",
      "source": [
        "print(df.dtypes)  # Verificar el tipo de datos"
      ],
      "metadata": {
        "colab": {
          "base_uri": "https://localhost:8080/"
        },
        "id": "ybdmln9b5lbc",
        "outputId": "a0cc1c51-916d-434d-e916-7d27f9dcc3f1"
      },
      "execution_count": 175,
      "outputs": [
        {
          "output_type": "stream",
          "name": "stdout",
          "text": [
            "AÑO                      int64\n",
            "MES                     object\n",
            "NUMMES                   int64\n",
            "NUMDIA                   int64\n",
            "TIPODIA                 object\n",
            "DIA                     object\n",
            "FECHA           datetime64[ns]\n",
            "HORA                     int64\n",
            "GUMEM                  float64\n",
            "DISTRIBUIDOR           float64\n",
            "DEMANDALOCAL           float64\n",
            "BUENOSAIRES            float64\n",
            "CATAMARCA              float64\n",
            "CHACO                  float64\n",
            "CHUBUT                 float64\n",
            "CORDOBA                float64\n",
            "CORRIENTES             float64\n",
            "ENTRERIOS              float64\n",
            "FORMOSA                float64\n",
            "JUJUY                  float64\n",
            "LAPAMPA                float64\n",
            "LARIOJA                float64\n",
            "MENDOZA                float64\n",
            "MISIONES               float64\n",
            "NEUQUEN                float64\n",
            "RIONEGRO               float64\n",
            "SALTA                  float64\n",
            "SANJUAN                float64\n",
            "SANLUIS                float64\n",
            "SANTACRUZ              float64\n",
            "SANTAFE                float64\n",
            "SGODELESTERO           float64\n",
            "TUCUMAN                float64\n",
            "dtype: object\n"
          ]
        }
      ]
    },
    {
      "cell_type": "code",
      "source": [
        "df.head() #Visualizar df"
      ],
      "metadata": {
        "colab": {
          "base_uri": "https://localhost:8080/",
          "height": 313
        },
        "id": "DNZlYo-x6b4B",
        "outputId": "8e77bc82-8828-4878-a5de-b57ab0b24355"
      },
      "execution_count": 176,
      "outputs": [
        {
          "output_type": "execute_result",
          "data": {
            "text/plain": [
              "    AÑO     MES  NUMMES  NUMDIA   TIPODIA     DIA      FECHA  HORA    GUMEM  \\\n",
              "0  2022  ene-22       1       1  No Hábil  Sábado 2022-01-01     1  1266.46   \n",
              "1  2022  ene-22       1       1  No Hábil  Sábado 2022-01-01     2  1264.15   \n",
              "2  2022  ene-22       1       1  No Hábil  Sábado 2022-01-01     3  1295.91   \n",
              "3  2022  ene-22       1       1  No Hábil  Sábado 2022-01-01     4  1294.95   \n",
              "4  2022  ene-22       1       1  No Hábil  Sábado 2022-01-01     5  1291.20   \n",
              "\n",
              "   DISTRIBUIDOR  DEMANDALOCAL  BUENOSAIRES  CATAMARCA   CHACO  CHUBUT  \\\n",
              "0      14627.63      15894.08      7599.76     150.29  464.32  422.04   \n",
              "1      14702.74      15966.89      7591.29     153.44  490.00  402.32   \n",
              "2      14950.08      16246.00      7620.86     162.35  523.35  418.11   \n",
              "3      15019.81      16314.76      7564.48     169.72  536.70  404.88   \n",
              "4      14813.75      16104.95      7383.98     171.75  537.32  394.58   \n",
              "\n",
              "   CORDOBA  CORRIENTES  ENTRERIOS  FORMOSA   JUJUY  LAPAMPA  LARIOJA  MENDOZA  \\\n",
              "0  1175.47      449.83     512.50   233.80  148.61   111.13   172.13   670.47   \n",
              "1  1183.88      463.48     528.20   240.17  145.82    99.23   177.94   669.20   \n",
              "2  1208.95      479.94     555.71   249.00  143.51   106.24   185.91   659.62   \n",
              "3  1217.33      488.90     572.64   249.81  142.31   102.07   193.44   657.69   \n",
              "4  1211.88      488.01     575.28   247.67  137.78    98.69   199.32   648.01   \n",
              "\n",
              "   MISIONES  NEUQUEN  RIONEGRO   SALTA  SANJUAN  SANLUIS  SANTACRUZ  SANTAFE  \\\n",
              "0    353.22   229.30    222.13  304.77   263.73   183.49     119.24  1416.29   \n",
              "1    365.76   220.90    214.24  299.58   262.04   179.65     117.52  1446.56   \n",
              "2    374.39   216.26    205.95  296.18   267.70   176.93     116.24  1522.40   \n",
              "3    367.99   208.11    196.83  291.18   277.83   173.15     113.59  1590.59   \n",
              "4    363.40   189.02    190.73  284.07   284.80   172.80     111.94  1596.04   \n",
              "\n",
              "   SGODELESTERO  TUCUMAN  \n",
              "0        267.69   423.88  \n",
              "1        285.63   430.04  \n",
              "2        313.19   443.20  \n",
              "3        337.67   457.84  \n",
              "4        356.07   461.85  "
            ],
            "text/html": [
              "\n",
              "  <div id=\"df-1156c583-7f5b-4bdc-9c6d-2ae6afd693b6\" class=\"colab-df-container\">\n",
              "    <div>\n",
              "<style scoped>\n",
              "    .dataframe tbody tr th:only-of-type {\n",
              "        vertical-align: middle;\n",
              "    }\n",
              "\n",
              "    .dataframe tbody tr th {\n",
              "        vertical-align: top;\n",
              "    }\n",
              "\n",
              "    .dataframe thead th {\n",
              "        text-align: right;\n",
              "    }\n",
              "</style>\n",
              "<table border=\"1\" class=\"dataframe\">\n",
              "  <thead>\n",
              "    <tr style=\"text-align: right;\">\n",
              "      <th></th>\n",
              "      <th>AÑO</th>\n",
              "      <th>MES</th>\n",
              "      <th>NUMMES</th>\n",
              "      <th>NUMDIA</th>\n",
              "      <th>TIPODIA</th>\n",
              "      <th>DIA</th>\n",
              "      <th>FECHA</th>\n",
              "      <th>HORA</th>\n",
              "      <th>GUMEM</th>\n",
              "      <th>DISTRIBUIDOR</th>\n",
              "      <th>DEMANDALOCAL</th>\n",
              "      <th>BUENOSAIRES</th>\n",
              "      <th>CATAMARCA</th>\n",
              "      <th>CHACO</th>\n",
              "      <th>CHUBUT</th>\n",
              "      <th>CORDOBA</th>\n",
              "      <th>CORRIENTES</th>\n",
              "      <th>ENTRERIOS</th>\n",
              "      <th>FORMOSA</th>\n",
              "      <th>JUJUY</th>\n",
              "      <th>LAPAMPA</th>\n",
              "      <th>LARIOJA</th>\n",
              "      <th>MENDOZA</th>\n",
              "      <th>MISIONES</th>\n",
              "      <th>NEUQUEN</th>\n",
              "      <th>RIONEGRO</th>\n",
              "      <th>SALTA</th>\n",
              "      <th>SANJUAN</th>\n",
              "      <th>SANLUIS</th>\n",
              "      <th>SANTACRUZ</th>\n",
              "      <th>SANTAFE</th>\n",
              "      <th>SGODELESTERO</th>\n",
              "      <th>TUCUMAN</th>\n",
              "    </tr>\n",
              "  </thead>\n",
              "  <tbody>\n",
              "    <tr>\n",
              "      <th>0</th>\n",
              "      <td>2022</td>\n",
              "      <td>ene-22</td>\n",
              "      <td>1</td>\n",
              "      <td>1</td>\n",
              "      <td>No Hábil</td>\n",
              "      <td>Sábado</td>\n",
              "      <td>2022-01-01</td>\n",
              "      <td>1</td>\n",
              "      <td>1266.46</td>\n",
              "      <td>14627.63</td>\n",
              "      <td>15894.08</td>\n",
              "      <td>7599.76</td>\n",
              "      <td>150.29</td>\n",
              "      <td>464.32</td>\n",
              "      <td>422.04</td>\n",
              "      <td>1175.47</td>\n",
              "      <td>449.83</td>\n",
              "      <td>512.50</td>\n",
              "      <td>233.80</td>\n",
              "      <td>148.61</td>\n",
              "      <td>111.13</td>\n",
              "      <td>172.13</td>\n",
              "      <td>670.47</td>\n",
              "      <td>353.22</td>\n",
              "      <td>229.30</td>\n",
              "      <td>222.13</td>\n",
              "      <td>304.77</td>\n",
              "      <td>263.73</td>\n",
              "      <td>183.49</td>\n",
              "      <td>119.24</td>\n",
              "      <td>1416.29</td>\n",
              "      <td>267.69</td>\n",
              "      <td>423.88</td>\n",
              "    </tr>\n",
              "    <tr>\n",
              "      <th>1</th>\n",
              "      <td>2022</td>\n",
              "      <td>ene-22</td>\n",
              "      <td>1</td>\n",
              "      <td>1</td>\n",
              "      <td>No Hábil</td>\n",
              "      <td>Sábado</td>\n",
              "      <td>2022-01-01</td>\n",
              "      <td>2</td>\n",
              "      <td>1264.15</td>\n",
              "      <td>14702.74</td>\n",
              "      <td>15966.89</td>\n",
              "      <td>7591.29</td>\n",
              "      <td>153.44</td>\n",
              "      <td>490.00</td>\n",
              "      <td>402.32</td>\n",
              "      <td>1183.88</td>\n",
              "      <td>463.48</td>\n",
              "      <td>528.20</td>\n",
              "      <td>240.17</td>\n",
              "      <td>145.82</td>\n",
              "      <td>99.23</td>\n",
              "      <td>177.94</td>\n",
              "      <td>669.20</td>\n",
              "      <td>365.76</td>\n",
              "      <td>220.90</td>\n",
              "      <td>214.24</td>\n",
              "      <td>299.58</td>\n",
              "      <td>262.04</td>\n",
              "      <td>179.65</td>\n",
              "      <td>117.52</td>\n",
              "      <td>1446.56</td>\n",
              "      <td>285.63</td>\n",
              "      <td>430.04</td>\n",
              "    </tr>\n",
              "    <tr>\n",
              "      <th>2</th>\n",
              "      <td>2022</td>\n",
              "      <td>ene-22</td>\n",
              "      <td>1</td>\n",
              "      <td>1</td>\n",
              "      <td>No Hábil</td>\n",
              "      <td>Sábado</td>\n",
              "      <td>2022-01-01</td>\n",
              "      <td>3</td>\n",
              "      <td>1295.91</td>\n",
              "      <td>14950.08</td>\n",
              "      <td>16246.00</td>\n",
              "      <td>7620.86</td>\n",
              "      <td>162.35</td>\n",
              "      <td>523.35</td>\n",
              "      <td>418.11</td>\n",
              "      <td>1208.95</td>\n",
              "      <td>479.94</td>\n",
              "      <td>555.71</td>\n",
              "      <td>249.00</td>\n",
              "      <td>143.51</td>\n",
              "      <td>106.24</td>\n",
              "      <td>185.91</td>\n",
              "      <td>659.62</td>\n",
              "      <td>374.39</td>\n",
              "      <td>216.26</td>\n",
              "      <td>205.95</td>\n",
              "      <td>296.18</td>\n",
              "      <td>267.70</td>\n",
              "      <td>176.93</td>\n",
              "      <td>116.24</td>\n",
              "      <td>1522.40</td>\n",
              "      <td>313.19</td>\n",
              "      <td>443.20</td>\n",
              "    </tr>\n",
              "    <tr>\n",
              "      <th>3</th>\n",
              "      <td>2022</td>\n",
              "      <td>ene-22</td>\n",
              "      <td>1</td>\n",
              "      <td>1</td>\n",
              "      <td>No Hábil</td>\n",
              "      <td>Sábado</td>\n",
              "      <td>2022-01-01</td>\n",
              "      <td>4</td>\n",
              "      <td>1294.95</td>\n",
              "      <td>15019.81</td>\n",
              "      <td>16314.76</td>\n",
              "      <td>7564.48</td>\n",
              "      <td>169.72</td>\n",
              "      <td>536.70</td>\n",
              "      <td>404.88</td>\n",
              "      <td>1217.33</td>\n",
              "      <td>488.90</td>\n",
              "      <td>572.64</td>\n",
              "      <td>249.81</td>\n",
              "      <td>142.31</td>\n",
              "      <td>102.07</td>\n",
              "      <td>193.44</td>\n",
              "      <td>657.69</td>\n",
              "      <td>367.99</td>\n",
              "      <td>208.11</td>\n",
              "      <td>196.83</td>\n",
              "      <td>291.18</td>\n",
              "      <td>277.83</td>\n",
              "      <td>173.15</td>\n",
              "      <td>113.59</td>\n",
              "      <td>1590.59</td>\n",
              "      <td>337.67</td>\n",
              "      <td>457.84</td>\n",
              "    </tr>\n",
              "    <tr>\n",
              "      <th>4</th>\n",
              "      <td>2022</td>\n",
              "      <td>ene-22</td>\n",
              "      <td>1</td>\n",
              "      <td>1</td>\n",
              "      <td>No Hábil</td>\n",
              "      <td>Sábado</td>\n",
              "      <td>2022-01-01</td>\n",
              "      <td>5</td>\n",
              "      <td>1291.20</td>\n",
              "      <td>14813.75</td>\n",
              "      <td>16104.95</td>\n",
              "      <td>7383.98</td>\n",
              "      <td>171.75</td>\n",
              "      <td>537.32</td>\n",
              "      <td>394.58</td>\n",
              "      <td>1211.88</td>\n",
              "      <td>488.01</td>\n",
              "      <td>575.28</td>\n",
              "      <td>247.67</td>\n",
              "      <td>137.78</td>\n",
              "      <td>98.69</td>\n",
              "      <td>199.32</td>\n",
              "      <td>648.01</td>\n",
              "      <td>363.40</td>\n",
              "      <td>189.02</td>\n",
              "      <td>190.73</td>\n",
              "      <td>284.07</td>\n",
              "      <td>284.80</td>\n",
              "      <td>172.80</td>\n",
              "      <td>111.94</td>\n",
              "      <td>1596.04</td>\n",
              "      <td>356.07</td>\n",
              "      <td>461.85</td>\n",
              "    </tr>\n",
              "  </tbody>\n",
              "</table>\n",
              "</div>\n",
              "    <div class=\"colab-df-buttons\">\n",
              "\n",
              "  <div class=\"colab-df-container\">\n",
              "    <button class=\"colab-df-convert\" onclick=\"convertToInteractive('df-1156c583-7f5b-4bdc-9c6d-2ae6afd693b6')\"\n",
              "            title=\"Convert this dataframe to an interactive table.\"\n",
              "            style=\"display:none;\">\n",
              "\n",
              "  <svg xmlns=\"http://www.w3.org/2000/svg\" height=\"24px\" viewBox=\"0 -960 960 960\">\n",
              "    <path d=\"M120-120v-720h720v720H120Zm60-500h600v-160H180v160Zm220 220h160v-160H400v160Zm0 220h160v-160H400v160ZM180-400h160v-160H180v160Zm440 0h160v-160H620v160ZM180-180h160v-160H180v160Zm440 0h160v-160H620v160Z\"/>\n",
              "  </svg>\n",
              "    </button>\n",
              "\n",
              "  <style>\n",
              "    .colab-df-container {\n",
              "      display:flex;\n",
              "      gap: 12px;\n",
              "    }\n",
              "\n",
              "    .colab-df-convert {\n",
              "      background-color: #E8F0FE;\n",
              "      border: none;\n",
              "      border-radius: 50%;\n",
              "      cursor: pointer;\n",
              "      display: none;\n",
              "      fill: #1967D2;\n",
              "      height: 32px;\n",
              "      padding: 0 0 0 0;\n",
              "      width: 32px;\n",
              "    }\n",
              "\n",
              "    .colab-df-convert:hover {\n",
              "      background-color: #E2EBFA;\n",
              "      box-shadow: 0px 1px 2px rgba(60, 64, 67, 0.3), 0px 1px 3px 1px rgba(60, 64, 67, 0.15);\n",
              "      fill: #174EA6;\n",
              "    }\n",
              "\n",
              "    .colab-df-buttons div {\n",
              "      margin-bottom: 4px;\n",
              "    }\n",
              "\n",
              "    [theme=dark] .colab-df-convert {\n",
              "      background-color: #3B4455;\n",
              "      fill: #D2E3FC;\n",
              "    }\n",
              "\n",
              "    [theme=dark] .colab-df-convert:hover {\n",
              "      background-color: #434B5C;\n",
              "      box-shadow: 0px 1px 3px 1px rgba(0, 0, 0, 0.15);\n",
              "      filter: drop-shadow(0px 1px 2px rgba(0, 0, 0, 0.3));\n",
              "      fill: #FFFFFF;\n",
              "    }\n",
              "  </style>\n",
              "\n",
              "    <script>\n",
              "      const buttonEl =\n",
              "        document.querySelector('#df-1156c583-7f5b-4bdc-9c6d-2ae6afd693b6 button.colab-df-convert');\n",
              "      buttonEl.style.display =\n",
              "        google.colab.kernel.accessAllowed ? 'block' : 'none';\n",
              "\n",
              "      async function convertToInteractive(key) {\n",
              "        const element = document.querySelector('#df-1156c583-7f5b-4bdc-9c6d-2ae6afd693b6');\n",
              "        const dataTable =\n",
              "          await google.colab.kernel.invokeFunction('convertToInteractive',\n",
              "                                                    [key], {});\n",
              "        if (!dataTable) return;\n",
              "\n",
              "        const docLinkHtml = 'Like what you see? Visit the ' +\n",
              "          '<a target=\"_blank\" href=https://colab.research.google.com/notebooks/data_table.ipynb>data table notebook</a>'\n",
              "          + ' to learn more about interactive tables.';\n",
              "        element.innerHTML = '';\n",
              "        dataTable['output_type'] = 'display_data';\n",
              "        await google.colab.output.renderOutput(dataTable, element);\n",
              "        const docLink = document.createElement('div');\n",
              "        docLink.innerHTML = docLinkHtml;\n",
              "        element.appendChild(docLink);\n",
              "      }\n",
              "    </script>\n",
              "  </div>\n",
              "\n",
              "\n",
              "    <div id=\"df-5f569508-cfc6-4249-915e-767607779917\">\n",
              "      <button class=\"colab-df-quickchart\" onclick=\"quickchart('df-5f569508-cfc6-4249-915e-767607779917')\"\n",
              "                title=\"Suggest charts\"\n",
              "                style=\"display:none;\">\n",
              "\n",
              "<svg xmlns=\"http://www.w3.org/2000/svg\" height=\"24px\"viewBox=\"0 0 24 24\"\n",
              "     width=\"24px\">\n",
              "    <g>\n",
              "        <path d=\"M19 3H5c-1.1 0-2 .9-2 2v14c0 1.1.9 2 2 2h14c1.1 0 2-.9 2-2V5c0-1.1-.9-2-2-2zM9 17H7v-7h2v7zm4 0h-2V7h2v10zm4 0h-2v-4h2v4z\"/>\n",
              "    </g>\n",
              "</svg>\n",
              "      </button>\n",
              "\n",
              "<style>\n",
              "  .colab-df-quickchart {\n",
              "      --bg-color: #E8F0FE;\n",
              "      --fill-color: #1967D2;\n",
              "      --hover-bg-color: #E2EBFA;\n",
              "      --hover-fill-color: #174EA6;\n",
              "      --disabled-fill-color: #AAA;\n",
              "      --disabled-bg-color: #DDD;\n",
              "  }\n",
              "\n",
              "  [theme=dark] .colab-df-quickchart {\n",
              "      --bg-color: #3B4455;\n",
              "      --fill-color: #D2E3FC;\n",
              "      --hover-bg-color: #434B5C;\n",
              "      --hover-fill-color: #FFFFFF;\n",
              "      --disabled-bg-color: #3B4455;\n",
              "      --disabled-fill-color: #666;\n",
              "  }\n",
              "\n",
              "  .colab-df-quickchart {\n",
              "    background-color: var(--bg-color);\n",
              "    border: none;\n",
              "    border-radius: 50%;\n",
              "    cursor: pointer;\n",
              "    display: none;\n",
              "    fill: var(--fill-color);\n",
              "    height: 32px;\n",
              "    padding: 0;\n",
              "    width: 32px;\n",
              "  }\n",
              "\n",
              "  .colab-df-quickchart:hover {\n",
              "    background-color: var(--hover-bg-color);\n",
              "    box-shadow: 0 1px 2px rgba(60, 64, 67, 0.3), 0 1px 3px 1px rgba(60, 64, 67, 0.15);\n",
              "    fill: var(--button-hover-fill-color);\n",
              "  }\n",
              "\n",
              "  .colab-df-quickchart-complete:disabled,\n",
              "  .colab-df-quickchart-complete:disabled:hover {\n",
              "    background-color: var(--disabled-bg-color);\n",
              "    fill: var(--disabled-fill-color);\n",
              "    box-shadow: none;\n",
              "  }\n",
              "\n",
              "  .colab-df-spinner {\n",
              "    border: 2px solid var(--fill-color);\n",
              "    border-color: transparent;\n",
              "    border-bottom-color: var(--fill-color);\n",
              "    animation:\n",
              "      spin 1s steps(1) infinite;\n",
              "  }\n",
              "\n",
              "  @keyframes spin {\n",
              "    0% {\n",
              "      border-color: transparent;\n",
              "      border-bottom-color: var(--fill-color);\n",
              "      border-left-color: var(--fill-color);\n",
              "    }\n",
              "    20% {\n",
              "      border-color: transparent;\n",
              "      border-left-color: var(--fill-color);\n",
              "      border-top-color: var(--fill-color);\n",
              "    }\n",
              "    30% {\n",
              "      border-color: transparent;\n",
              "      border-left-color: var(--fill-color);\n",
              "      border-top-color: var(--fill-color);\n",
              "      border-right-color: var(--fill-color);\n",
              "    }\n",
              "    40% {\n",
              "      border-color: transparent;\n",
              "      border-right-color: var(--fill-color);\n",
              "      border-top-color: var(--fill-color);\n",
              "    }\n",
              "    60% {\n",
              "      border-color: transparent;\n",
              "      border-right-color: var(--fill-color);\n",
              "    }\n",
              "    80% {\n",
              "      border-color: transparent;\n",
              "      border-right-color: var(--fill-color);\n",
              "      border-bottom-color: var(--fill-color);\n",
              "    }\n",
              "    90% {\n",
              "      border-color: transparent;\n",
              "      border-bottom-color: var(--fill-color);\n",
              "    }\n",
              "  }\n",
              "</style>\n",
              "\n",
              "      <script>\n",
              "        async function quickchart(key) {\n",
              "          const quickchartButtonEl =\n",
              "            document.querySelector('#' + key + ' button');\n",
              "          quickchartButtonEl.disabled = true;  // To prevent multiple clicks.\n",
              "          quickchartButtonEl.classList.add('colab-df-spinner');\n",
              "          try {\n",
              "            const charts = await google.colab.kernel.invokeFunction(\n",
              "                'suggestCharts', [key], {});\n",
              "          } catch (error) {\n",
              "            console.error('Error during call to suggestCharts:', error);\n",
              "          }\n",
              "          quickchartButtonEl.classList.remove('colab-df-spinner');\n",
              "          quickchartButtonEl.classList.add('colab-df-quickchart-complete');\n",
              "        }\n",
              "        (() => {\n",
              "          let quickchartButtonEl =\n",
              "            document.querySelector('#df-5f569508-cfc6-4249-915e-767607779917 button');\n",
              "          quickchartButtonEl.style.display =\n",
              "            google.colab.kernel.accessAllowed ? 'block' : 'none';\n",
              "        })();\n",
              "      </script>\n",
              "    </div>\n",
              "\n",
              "    </div>\n",
              "  </div>\n"
            ],
            "application/vnd.google.colaboratory.intrinsic+json": {
              "type": "dataframe",
              "variable_name": "df"
            }
          },
          "metadata": {},
          "execution_count": 176
        }
      ]
    },
    {
      "cell_type": "markdown",
      "source": [
        "# 3.1 Verificar Valores Nulos"
      ],
      "metadata": {
        "id": "lHQ7EGJw6d05"
      }
    },
    {
      "cell_type": "code",
      "source": [
        "\n",
        "print(\"Valores Nulos por Columna:\")\n",
        "df.isnull().sum()"
      ],
      "metadata": {
        "colab": {
          "base_uri": "https://localhost:8080/",
          "height": 1000
        },
        "id": "FeGFqU-t6diw",
        "outputId": "27e69f95-a44e-4126-cb79-b25a53656441"
      },
      "execution_count": 177,
      "outputs": [
        {
          "output_type": "stream",
          "name": "stdout",
          "text": [
            "Valores Nulos por Columna:\n"
          ]
        },
        {
          "output_type": "execute_result",
          "data": {
            "text/plain": [
              "AÑO             0\n",
              "MES             0\n",
              "NUMMES          0\n",
              "NUMDIA          0\n",
              "TIPODIA         0\n",
              "DIA             0\n",
              "FECHA           0\n",
              "HORA            0\n",
              "GUMEM           0\n",
              "DISTRIBUIDOR    0\n",
              "DEMANDALOCAL    0\n",
              "BUENOSAIRES     0\n",
              "CATAMARCA       0\n",
              "CHACO           0\n",
              "CHUBUT          0\n",
              "CORDOBA         0\n",
              "CORRIENTES      0\n",
              "ENTRERIOS       0\n",
              "FORMOSA         0\n",
              "JUJUY           0\n",
              "LAPAMPA         0\n",
              "LARIOJA         0\n",
              "MENDOZA         0\n",
              "MISIONES        0\n",
              "NEUQUEN         0\n",
              "RIONEGRO        0\n",
              "SALTA           0\n",
              "SANJUAN         0\n",
              "SANLUIS         0\n",
              "SANTACRUZ       0\n",
              "SANTAFE         0\n",
              "SGODELESTERO    0\n",
              "TUCUMAN         0\n",
              "dtype: int64"
            ],
            "text/html": [
              "<div>\n",
              "<style scoped>\n",
              "    .dataframe tbody tr th:only-of-type {\n",
              "        vertical-align: middle;\n",
              "    }\n",
              "\n",
              "    .dataframe tbody tr th {\n",
              "        vertical-align: top;\n",
              "    }\n",
              "\n",
              "    .dataframe thead th {\n",
              "        text-align: right;\n",
              "    }\n",
              "</style>\n",
              "<table border=\"1\" class=\"dataframe\">\n",
              "  <thead>\n",
              "    <tr style=\"text-align: right;\">\n",
              "      <th></th>\n",
              "      <th>0</th>\n",
              "    </tr>\n",
              "  </thead>\n",
              "  <tbody>\n",
              "    <tr>\n",
              "      <th>AÑO</th>\n",
              "      <td>0</td>\n",
              "    </tr>\n",
              "    <tr>\n",
              "      <th>MES</th>\n",
              "      <td>0</td>\n",
              "    </tr>\n",
              "    <tr>\n",
              "      <th>NUMMES</th>\n",
              "      <td>0</td>\n",
              "    </tr>\n",
              "    <tr>\n",
              "      <th>NUMDIA</th>\n",
              "      <td>0</td>\n",
              "    </tr>\n",
              "    <tr>\n",
              "      <th>TIPODIA</th>\n",
              "      <td>0</td>\n",
              "    </tr>\n",
              "    <tr>\n",
              "      <th>DIA</th>\n",
              "      <td>0</td>\n",
              "    </tr>\n",
              "    <tr>\n",
              "      <th>FECHA</th>\n",
              "      <td>0</td>\n",
              "    </tr>\n",
              "    <tr>\n",
              "      <th>HORA</th>\n",
              "      <td>0</td>\n",
              "    </tr>\n",
              "    <tr>\n",
              "      <th>GUMEM</th>\n",
              "      <td>0</td>\n",
              "    </tr>\n",
              "    <tr>\n",
              "      <th>DISTRIBUIDOR</th>\n",
              "      <td>0</td>\n",
              "    </tr>\n",
              "    <tr>\n",
              "      <th>DEMANDALOCAL</th>\n",
              "      <td>0</td>\n",
              "    </tr>\n",
              "    <tr>\n",
              "      <th>BUENOSAIRES</th>\n",
              "      <td>0</td>\n",
              "    </tr>\n",
              "    <tr>\n",
              "      <th>CATAMARCA</th>\n",
              "      <td>0</td>\n",
              "    </tr>\n",
              "    <tr>\n",
              "      <th>CHACO</th>\n",
              "      <td>0</td>\n",
              "    </tr>\n",
              "    <tr>\n",
              "      <th>CHUBUT</th>\n",
              "      <td>0</td>\n",
              "    </tr>\n",
              "    <tr>\n",
              "      <th>CORDOBA</th>\n",
              "      <td>0</td>\n",
              "    </tr>\n",
              "    <tr>\n",
              "      <th>CORRIENTES</th>\n",
              "      <td>0</td>\n",
              "    </tr>\n",
              "    <tr>\n",
              "      <th>ENTRERIOS</th>\n",
              "      <td>0</td>\n",
              "    </tr>\n",
              "    <tr>\n",
              "      <th>FORMOSA</th>\n",
              "      <td>0</td>\n",
              "    </tr>\n",
              "    <tr>\n",
              "      <th>JUJUY</th>\n",
              "      <td>0</td>\n",
              "    </tr>\n",
              "    <tr>\n",
              "      <th>LAPAMPA</th>\n",
              "      <td>0</td>\n",
              "    </tr>\n",
              "    <tr>\n",
              "      <th>LARIOJA</th>\n",
              "      <td>0</td>\n",
              "    </tr>\n",
              "    <tr>\n",
              "      <th>MENDOZA</th>\n",
              "      <td>0</td>\n",
              "    </tr>\n",
              "    <tr>\n",
              "      <th>MISIONES</th>\n",
              "      <td>0</td>\n",
              "    </tr>\n",
              "    <tr>\n",
              "      <th>NEUQUEN</th>\n",
              "      <td>0</td>\n",
              "    </tr>\n",
              "    <tr>\n",
              "      <th>RIONEGRO</th>\n",
              "      <td>0</td>\n",
              "    </tr>\n",
              "    <tr>\n",
              "      <th>SALTA</th>\n",
              "      <td>0</td>\n",
              "    </tr>\n",
              "    <tr>\n",
              "      <th>SANJUAN</th>\n",
              "      <td>0</td>\n",
              "    </tr>\n",
              "    <tr>\n",
              "      <th>SANLUIS</th>\n",
              "      <td>0</td>\n",
              "    </tr>\n",
              "    <tr>\n",
              "      <th>SANTACRUZ</th>\n",
              "      <td>0</td>\n",
              "    </tr>\n",
              "    <tr>\n",
              "      <th>SANTAFE</th>\n",
              "      <td>0</td>\n",
              "    </tr>\n",
              "    <tr>\n",
              "      <th>SGODELESTERO</th>\n",
              "      <td>0</td>\n",
              "    </tr>\n",
              "    <tr>\n",
              "      <th>TUCUMAN</th>\n",
              "      <td>0</td>\n",
              "    </tr>\n",
              "  </tbody>\n",
              "</table>\n",
              "</div><br><label><b>dtype:</b> int64</label>"
            ]
          },
          "metadata": {},
          "execution_count": 177
        }
      ]
    },
    {
      "cell_type": "markdown",
      "source": [
        "Se verifica que el df no tiene valores nulos"
      ],
      "metadata": {
        "id": "qusYV4FB6k3G"
      }
    },
    {
      "cell_type": "markdown",
      "source": [
        "# 3.2 Eliminación y creacion de columnas"
      ],
      "metadata": {
        "id": "HNhCgxVn6r7t"
      }
    },
    {
      "cell_type": "markdown",
      "source": [
        "En base a la Hipotesis: Se crea un nuevo df_pico. Tranformando las columnas de cada provincia en dos filas que reflejen la demanda de cada provincia por horario y a que provincia corresponde. Luego se filtran las horas pico (18 a 22 hs ), se mantienen las colimnas tipo de dia."
      ],
      "metadata": {
        "id": "OV7LZ29b6t-F"
      }
    },
    {
      "cell_type": "markdown",
      "source": [
        "Crear un df_2 copia de df original para transformar los datos"
      ],
      "metadata": {
        "id": "nOvHQjMy7tst"
      }
    },
    {
      "cell_type": "code",
      "source": [
        "df_2=df.copy()\n",
        "\n",
        "#Se cean dos variables de columnas fijas y columnas a modificar\n",
        "columnas_fijas = [\"AÑO\", \"MES\", \"NUMMES\", \"NUMDIA\", \"TIPODIA\", \"DIA\", \"FECHA\", \"HORA\",\"GUMEM\",\"DISTRIBUIDOR\",\"DEMANDALOCAL\"]\n",
        "columnas_provincias = [\"BUENOSAIRES\",\"CATAMARCA\",\"CHACO\",\"CHUBUT\",\"CORDOBA\",\"CORRIENTES\",\"ENTRERIOS\",\"FORMOSA\",\"JUJUY\",\"LAPAMPA\",\"LARIOJA\",\"MENDOZA\",\"MISIONES\",\"NEUQUEN\",\"RIONEGRO\",\"SALTA\",\"SANJUAN\",\"SANLUIS\",\"SANTACRUZ\",\"SANTAFE\",\"SGODELESTERO\",\"TUCUMAN\"]\n",
        "\n",
        "# Se usa melt para transformar el df_2\n",
        "df_2_melted = df_2.melt(id_vars=columnas_fijas, value_vars=columnas_provincias,\n",
        "                     var_name=\"PROVINCIAS\", value_name=\"DEMANDAPROV\")\n",
        "\n",
        "\n",
        "print(df_2_melted.head())\n"
      ],
      "metadata": {
        "colab": {
          "base_uri": "https://localhost:8080/"
        },
        "id": "aWEl_Gk57iOm",
        "outputId": "4b3ea82d-86b1-4423-a3ed-b0a8a0e83def"
      },
      "execution_count": 178,
      "outputs": [
        {
          "output_type": "stream",
          "name": "stdout",
          "text": [
            "    AÑO     MES  NUMMES  NUMDIA   TIPODIA     DIA      FECHA  HORA    GUMEM  \\\n",
            "0  2022  ene-22       1       1  No Hábil  Sábado 2022-01-01     1  1266.46   \n",
            "1  2022  ene-22       1       1  No Hábil  Sábado 2022-01-01     2  1264.15   \n",
            "2  2022  ene-22       1       1  No Hábil  Sábado 2022-01-01     3  1295.91   \n",
            "3  2022  ene-22       1       1  No Hábil  Sábado 2022-01-01     4  1294.95   \n",
            "4  2022  ene-22       1       1  No Hábil  Sábado 2022-01-01     5  1291.20   \n",
            "\n",
            "   DISTRIBUIDOR  DEMANDALOCAL   PROVINCIAS  DEMANDAPROV  \n",
            "0      14627.63      15894.08  BUENOSAIRES      7599.76  \n",
            "1      14702.74      15966.89  BUENOSAIRES      7591.29  \n",
            "2      14950.08      16246.00  BUENOSAIRES      7620.86  \n",
            "3      15019.81      16314.76  BUENOSAIRES      7564.48  \n",
            "4      14813.75      16104.95  BUENOSAIRES      7383.98  \n"
          ]
        }
      ]
    },
    {
      "cell_type": "code",
      "source": [
        "df_3_melted= df_2_melted [['PROVINCIAS','HORA','TIPODIA','DEMANDAPROV']] # Se filtran columnas"
      ],
      "metadata": {
        "id": "pVUKYWSjrH8q"
      },
      "execution_count": 179,
      "outputs": []
    },
    {
      "cell_type": "code",
      "source": [
        "df_pico = df_3_melted[df_3_melted['HORA'].isin([18, 19, 20, 21,22])] # Se filtan las horas pico"
      ],
      "metadata": {
        "id": "rpW-jznsn-ei"
      },
      "execution_count": 180,
      "outputs": []
    },
    {
      "cell_type": "code",
      "source": [
        "print(df_pico.head())"
      ],
      "metadata": {
        "colab": {
          "base_uri": "https://localhost:8080/"
        },
        "id": "FWGOXQATrAez",
        "outputId": "d9e595a8-99f0-47be-a09c-ce9c6d52638d"
      },
      "execution_count": 181,
      "outputs": [
        {
          "output_type": "stream",
          "name": "stdout",
          "text": [
            "     PROVINCIAS  HORA   TIPODIA  DEMANDAPROV\n",
            "17  BUENOSAIRES    18  No Hábil      5977.16\n",
            "18  BUENOSAIRES    19  No Hábil      6063.20\n",
            "19  BUENOSAIRES    20  No Hábil      6142.18\n",
            "20  BUENOSAIRES    21  No Hábil      6673.39\n",
            "21  BUENOSAIRES    22  No Hábil      7157.92\n"
          ]
        }
      ]
    },
    {
      "cell_type": "code",
      "source": [
        "df_pico.shape #tamaño de dataframe"
      ],
      "metadata": {
        "colab": {
          "base_uri": "https://localhost:8080/"
        },
        "id": "S_GIVa0VssrB",
        "outputId": "489a8d43-f329-4632-cdc3-8c476ac7f36b"
      },
      "execution_count": 182,
      "outputs": [
        {
          "output_type": "execute_result",
          "data": {
            "text/plain": [
              "(127050, 4)"
            ]
          },
          "metadata": {},
          "execution_count": 182
        }
      ]
    },
    {
      "cell_type": "code",
      "source": [
        "df_pico['TIPODIA'] = df_pico['TIPODIA'].replace({'No hábil':'No Hábil'}) #Normalizo formatos"
      ],
      "metadata": {
        "id": "6IH-V7u3xPnN"
      },
      "execution_count": 183,
      "outputs": []
    },
    {
      "cell_type": "code",
      "source": [
        "df_pico.TIPODIA.value_counts()"
      ],
      "metadata": {
        "colab": {
          "base_uri": "https://localhost:8080/",
          "height": 178
        },
        "id": "XfjBo65yxMaf",
        "outputId": "b06722a6-1db7-4fbb-95a6-6a6c6f3635f2"
      },
      "execution_count": 184,
      "outputs": [
        {
          "output_type": "execute_result",
          "data": {
            "text/plain": [
              "TIPODIA\n",
              "Hábil       85690\n",
              "No Hábil    41360\n",
              "Name: count, dtype: int64"
            ],
            "text/html": [
              "<div>\n",
              "<style scoped>\n",
              "    .dataframe tbody tr th:only-of-type {\n",
              "        vertical-align: middle;\n",
              "    }\n",
              "\n",
              "    .dataframe tbody tr th {\n",
              "        vertical-align: top;\n",
              "    }\n",
              "\n",
              "    .dataframe thead th {\n",
              "        text-align: right;\n",
              "    }\n",
              "</style>\n",
              "<table border=\"1\" class=\"dataframe\">\n",
              "  <thead>\n",
              "    <tr style=\"text-align: right;\">\n",
              "      <th></th>\n",
              "      <th>count</th>\n",
              "    </tr>\n",
              "    <tr>\n",
              "      <th>TIPODIA</th>\n",
              "      <th></th>\n",
              "    </tr>\n",
              "  </thead>\n",
              "  <tbody>\n",
              "    <tr>\n",
              "      <th>Hábil</th>\n",
              "      <td>85690</td>\n",
              "    </tr>\n",
              "    <tr>\n",
              "      <th>No Hábil</th>\n",
              "      <td>41360</td>\n",
              "    </tr>\n",
              "  </tbody>\n",
              "</table>\n",
              "</div><br><label><b>dtype:</b> int64</label>"
            ]
          },
          "metadata": {},
          "execution_count": 184
        }
      ]
    },
    {
      "cell_type": "code",
      "source": [
        "# Boxplots para variables pronvincia vs demandaprov para ver distribución\n",
        "plt.figure(figsize=(24, 30))\n",
        "sns.boxplot(x='PROVINCIAS', y='DEMANDAPROV', data=df_pico, palette='pastel')\n",
        "plt.title(\"Grafico 1: Tipo de pronvincia vs demanda de provincia \")\n",
        "plt.show()"
      ],
      "metadata": {
        "colab": {
          "base_uri": "https://localhost:8080/",
          "height": 1000
        },
        "id": "bk0IDQSM4Xjf",
        "outputId": "bf75a82d-0efb-490c-d33f-2a67e7233de9"
      },
      "execution_count": 185,
      "outputs": [
        {
          "output_type": "display_data",
          "data": {
            "text/plain": [
              "<Figure size 2400x3000 with 1 Axes>"
            ],
            "image/png": "[encoded data removed]"
          },
          "metadata": {}
        }
      ]
    },
    {
      "cell_type": "markdown",
      "source": [
        "En el grafico 1 se puede observar que el rango de demanda de Buenos Aires es muy superior al rango de demanda de las otras provincias seguida por cordoba y sanata fe. En base a este grafico se puede estimar que las provincias con mayor población son Buenos Aires, Cordoba y Santa Fe."
      ],
      "metadata": {
        "id": "3KrVTogD6ZZx"
      }
    },
    {
      "cell_type": "markdown",
      "source": [
        "## 4.Generación de Target\n",
        "Se crea target para las horas pico altademanda= 1, bajademanda=0.\n",
        "Al tener cada provincia, un rango de demanda diferente, para identificar si la misma tiene alta o baja demanda, se calcula el valor al 80% de la distribución de datos.\n"
      ],
      "metadata": {
        "id": "T8BSSYWszZZv"
      }
    },
    {
      "cell_type": "code",
      "source": [
        "p80_por_provincia = df_pico.groupby('PROVINCIAS')['DEMANDAPROV'].quantile(0.8)"
      ],
      "metadata": {
        "id": "zcY1eMhoxtat"
      },
      "execution_count": 186,
      "outputs": []
    },
    {
      "cell_type": "code",
      "source": [
        "p80_por_provincia.head() #Visualizar df"
      ],
      "metadata": {
        "colab": {
          "base_uri": "https://localhost:8080/",
          "height": 272
        },
        "id": "NP5zsDWM3eXn",
        "outputId": "c46fc7d4-da75-4498-a94b-a7e41af3c51d"
      },
      "execution_count": 187,
      "outputs": [
        {
          "output_type": "execute_result",
          "data": {
            "text/plain": [
              "PROVINCIAS\n",
              "BUENOSAIRES    10169.426\n",
              "CATAMARCA        199.254\n",
              "CHACO            517.642\n",
              "CHUBUT           578.448\n",
              "CORDOBA         1572.350\n",
              "Name: DEMANDAPROV, dtype: float64"
            ],
            "text/html": [
              "<div>\n",
              "<style scoped>\n",
              "    .dataframe tbody tr th:only-of-type {\n",
              "        vertical-align: middle;\n",
              "    }\n",
              "\n",
              "    .dataframe tbody tr th {\n",
              "        vertical-align: top;\n",
              "    }\n",
              "\n",
              "    .dataframe thead th {\n",
              "        text-align: right;\n",
              "    }\n",
              "</style>\n",
              "<table border=\"1\" class=\"dataframe\">\n",
              "  <thead>\n",
              "    <tr style=\"text-align: right;\">\n",
              "      <th></th>\n",
              "      <th>DEMANDAPROV</th>\n",
              "    </tr>\n",
              "    <tr>\n",
              "      <th>PROVINCIAS</th>\n",
              "      <th></th>\n",
              "    </tr>\n",
              "  </thead>\n",
              "  <tbody>\n",
              "    <tr>\n",
              "      <th>BUENOSAIRES</th>\n",
              "      <td>10169.426</td>\n",
              "    </tr>\n",
              "    <tr>\n",
              "      <th>CATAMARCA</th>\n",
              "      <td>199.254</td>\n",
              "    </tr>\n",
              "    <tr>\n",
              "      <th>CHACO</th>\n",
              "      <td>517.642</td>\n",
              "    </tr>\n",
              "    <tr>\n",
              "      <th>CHUBUT</th>\n",
              "      <td>578.448</td>\n",
              "    </tr>\n",
              "    <tr>\n",
              "      <th>CORDOBA</th>\n",
              "      <td>1572.350</td>\n",
              "    </tr>\n",
              "  </tbody>\n",
              "</table>\n",
              "</div><br><label><b>dtype:</b> float64</label>"
            ]
          },
          "metadata": {},
          "execution_count": 187
        }
      ]
    },
    {
      "cell_type": "code",
      "source": [
        "#Se asigna la variable target y se mapean los valores\n",
        "df_pico['target'] = (df_pico['DEMANDAPROV'] > df_pico['PROVINCIAS'].map(p80_por_provincia)).astype(int)\n"
      ],
      "metadata": {
        "id": "hNNFpBdv4AuS"
      },
      "execution_count": 188,
      "outputs": []
    },
    {
      "cell_type": "code",
      "source": [
        "print(df_pico.head())"
      ],
      "metadata": {
        "colab": {
          "base_uri": "https://localhost:8080/"
        },
        "id": "ZlC3xCF-8Uwz",
        "outputId": "849e5895-a2a8-407c-d24c-26844aceba0e"
      },
      "execution_count": 189,
      "outputs": [
        {
          "output_type": "stream",
          "name": "stdout",
          "text": [
            "     PROVINCIAS  HORA   TIPODIA  DEMANDAPROV  target\n",
            "17  BUENOSAIRES    18  No Hábil      5977.16       0\n",
            "18  BUENOSAIRES    19  No Hábil      6063.20       0\n",
            "19  BUENOSAIRES    20  No Hábil      6142.18       0\n",
            "20  BUENOSAIRES    21  No Hábil      6673.39       0\n",
            "21  BUENOSAIRES    22  No Hábil      7157.92       0\n"
          ]
        }
      ]
    },
    {
      "cell_type": "code",
      "source": [
        "df_pico.target.value_counts() #Distribucion de variable target"
      ],
      "metadata": {
        "colab": {
          "base_uri": "https://localhost:8080/",
          "height": 178
        },
        "id": "sEu33I218bMp",
        "outputId": "5f6f094b-a67e-40b7-fab5-dd517a736b8d"
      },
      "execution_count": 191,
      "outputs": [
        {
          "output_type": "execute_result",
          "data": {
            "text/plain": [
              "target\n",
              "0    101643\n",
              "1     25407\n",
              "Name: count, dtype: int64"
            ],
            "text/html": [
              "<div>\n",
              "<style scoped>\n",
              "    .dataframe tbody tr th:only-of-type {\n",
              "        vertical-align: middle;\n",
              "    }\n",
              "\n",
              "    .dataframe tbody tr th {\n",
              "        vertical-align: top;\n",
              "    }\n",
              "\n",
              "    .dataframe thead th {\n",
              "        text-align: right;\n",
              "    }\n",
              "</style>\n",
              "<table border=\"1\" class=\"dataframe\">\n",
              "  <thead>\n",
              "    <tr style=\"text-align: right;\">\n",
              "      <th></th>\n",
              "      <th>count</th>\n",
              "    </tr>\n",
              "    <tr>\n",
              "      <th>target</th>\n",
              "      <th></th>\n",
              "    </tr>\n",
              "  </thead>\n",
              "  <tbody>\n",
              "    <tr>\n",
              "      <th>0</th>\n",
              "      <td>101643</td>\n",
              "    </tr>\n",
              "    <tr>\n",
              "      <th>1</th>\n",
              "      <td>25407</td>\n",
              "    </tr>\n",
              "  </tbody>\n",
              "</table>\n",
              "</div><br><label><b>dtype:</b> int64</label>"
            ]
          },
          "metadata": {},
          "execution_count": 191
        }
      ]
    },
    {
      "cell_type": "code",
      "source": [
        "print(\"Estadísticas Descriptivas:\")\n",
        "df_pico.describe()"
      ],
      "metadata": {
        "colab": {
          "base_uri": "https://localhost:8080/",
          "height": 318
        },
        "id": "S7gybYazBufz",
        "outputId": "74858b02-e479-4bb5-82c4-eb216b37eb73"
      },
      "execution_count": 192,
      "outputs": [
        {
          "output_type": "stream",
          "name": "stdout",
          "text": [
            "Estadísticas Descriptivas:\n"
          ]
        },
        {
          "output_type": "execute_result",
          "data": {
            "text/plain": [
              "                HORA    DEMANDAPROV         target\n",
              "count  127050.000000  127050.000000  127050.000000\n",
              "mean       20.000000     805.501183       0.199976\n",
              "std         1.414219    1814.761407       0.399984\n",
              "min        18.000000       0.000000       0.000000\n",
              "25%        19.000000     195.812500       0.000000\n",
              "50%        20.000000     300.350000       0.000000\n",
              "75%        21.000000     513.017500       0.000000\n",
              "max        22.000000   13163.950000       1.000000"
            ],
            "text/html": [
              "\n",
              "  <div id=\"df-786012d4-22dc-487b-83b4-e5ab33018c16\" class=\"colab-df-container\">\n",
              "    <div>\n",
              "<style scoped>\n",
              "    .dataframe tbody tr th:only-of-type {\n",
              "        vertical-align: middle;\n",
              "    }\n",
              "\n",
              "    .dataframe tbody tr th {\n",
              "        vertical-align: top;\n",
              "    }\n",
              "\n",
              "    .dataframe thead th {\n",
              "        text-align: right;\n",
              "    }\n",
              "</style>\n",
              "<table border=\"1\" class=\"dataframe\">\n",
              "  <thead>\n",
              "    <tr style=\"text-align: right;\">\n",
              "      <th></th>\n",
              "      <th>HORA</th>\n",
              "      <th>DEMANDAPROV</th>\n",
              "      <th>target</th>\n",
              "    </tr>\n",
              "  </thead>\n",
              "  <tbody>\n",
              "    <tr>\n",
              "      <th>count</th>\n",
              "      <td>127050.000000</td>\n",
              "      <td>127050.000000</td>\n",
              "      <td>127050.000000</td>\n",
              "    </tr>\n",
              "    <tr>\n",
              "      <th>mean</th>\n",
              "      <td>20.000000</td>\n",
              "      <td>805.501183</td>\n",
              "      <td>0.199976</td>\n",
              "    </tr>\n",
              "    <tr>\n",
              "      <th>std</th>\n",
              "      <td>1.414219</td>\n",
              "      <td>1814.761407</td>\n",
              "      <td>0.399984</td>\n",
              "    </tr>\n",
              "    <tr>\n",
              "      <th>min</th>\n",
              "      <td>18.000000</td>\n",
              "      <td>0.000000</td>\n",
              "      <td>0.000000</td>\n",
              "    </tr>\n",
              "    <tr>\n",
              "      <th>25%</th>\n",
              "      <td>19.000000</td>\n",
              "      <td>195.812500</td>\n",
              "      <td>0.000000</td>\n",
              "    </tr>\n",
              "    <tr>\n",
              "      <th>50%</th>\n",
              "      <td>20.000000</td>\n",
              "      <td>300.350000</td>\n",
              "      <td>0.000000</td>\n",
              "    </tr>\n",
              "    <tr>\n",
              "      <th>75%</th>\n",
              "      <td>21.000000</td>\n",
              "      <td>513.017500</td>\n",
              "      <td>0.000000</td>\n",
              "    </tr>\n",
              "    <tr>\n",
              "      <th>max</th>\n",
              "      <td>22.000000</td>\n",
              "      <td>13163.950000</td>\n",
              "      <td>1.000000</td>\n",
              "    </tr>\n",
              "  </tbody>\n",
              "</table>\n",
              "</div>\n",
              "    <div class=\"colab-df-buttons\">\n",
              "\n",
              "  <div class=\"colab-df-container\">\n",
              "    <button class=\"colab-df-convert\" onclick=\"convertToInteractive('df-786012d4-22dc-487b-83b4-e5ab33018c16')\"\n",
              "            title=\"Convert this dataframe to an interactive table.\"\n",
              "            style=\"display:none;\">\n",
              "\n",
              "  <svg xmlns=\"http://www.w3.org/2000/svg\" height=\"24px\" viewBox=\"0 -960 960 960\">\n",
              "    <path d=\"M120-120v-720h720v720H120Zm60-500h600v-160H180v160Zm220 220h160v-160H400v160Zm0 220h160v-160H400v160ZM180-400h160v-160H180v160Zm440 0h160v-160H620v160ZM180-180h160v-160H180v160Zm440 0h160v-160H620v160Z\"/>\n",
              "  </svg>\n",
              "    </button>\n",
              "\n",
              "  <style>\n",
              "    .colab-df-container {\n",
              "      display:flex;\n",
              "      gap: 12px;\n",
              "    }\n",
              "\n",
              "    .colab-df-convert {\n",
              "      background-color: #E8F0FE;\n",
              "      border: none;\n",
              "      border-radius: 50%;\n",
              "      cursor: pointer;\n",
              "      display: none;\n",
              "      fill: #1967D2;\n",
              "      height: 32px;\n",
              "      padding: 0 0 0 0;\n",
              "      width: 32px;\n",
              "    }\n",
              "\n",
              "    .colab-df-convert:hover {\n",
              "      background-color: #E2EBFA;\n",
              "      box-shadow: 0px 1px 2px rgba(60, 64, 67, 0.3), 0px 1px 3px 1px rgba(60, 64, 67, 0.15);\n",
              "      fill: #174EA6;\n",
              "    }\n",
              "\n",
              "    .colab-df-buttons div {\n",
              "      margin-bottom: 4px;\n",
              "    }\n",
              "\n",
              "    [theme=dark] .colab-df-convert {\n",
              "      background-color: #3B4455;\n",
              "      fill: #D2E3FC;\n",
              "    }\n",
              "\n",
              "    [theme=dark] .colab-df-convert:hover {\n",
              "      background-color: #434B5C;\n",
              "      box-shadow: 0px 1px 3px 1px rgba(0, 0, 0, 0.15);\n",
              "      filter: drop-shadow(0px 1px 2px rgba(0, 0, 0, 0.3));\n",
              "      fill: #FFFFFF;\n",
              "    }\n",
              "  </style>\n",
              "\n",
              "    <script>\n",
              "      const buttonEl =\n",
              "        document.querySelector('#df-786012d4-22dc-487b-83b4-e5ab33018c16 button.colab-df-convert');\n",
              "      buttonEl.style.display =\n",
              "        google.colab.kernel.accessAllowed ? 'block' : 'none';\n",
              "\n",
              "      async function convertToInteractive(key) {\n",
              "        const element = document.querySelector('#df-786012d4-22dc-487b-83b4-e5ab33018c16');\n",
              "        const dataTable =\n",
              "          await google.colab.kernel.invokeFunction('convertToInteractive',\n",
              "                                                    [key], {});\n",
              "        if (!dataTable) return;\n",
              "\n",
              "        const docLinkHtml = 'Like what you see? Visit the ' +\n",
              "          '<a target=\"_blank\" href=https://colab.research.google.com/notebooks/data_table.ipynb>data table notebook</a>'\n",
              "          + ' to learn more about interactive tables.';\n",
              "        element.innerHTML = '';\n",
              "        dataTable['output_type'] = 'display_data';\n",
              "        await google.colab.output.renderOutput(dataTable, element);\n",
              "        const docLink = document.createElement('div');\n",
              "        docLink.innerHTML = docLinkHtml;\n",
              "        element.appendChild(docLink);\n",
              "      }\n",
              "    </script>\n",
              "  </div>\n",
              "\n",
              "\n",
              "    <div id=\"df-60b42a2e-a021-4b49-b747-8b88685d7d1e\">\n",
              "      <button class=\"colab-df-quickchart\" onclick=\"quickchart('df-60b42a2e-a021-4b49-b747-8b88685d7d1e')\"\n",
              "                title=\"Suggest charts\"\n",
              "                style=\"display:none;\">\n",
              "\n",
              "<svg xmlns=\"http://www.w3.org/2000/svg\" height=\"24px\"viewBox=\"0 0 24 24\"\n",
              "     width=\"24px\">\n",
              "    <g>\n",
              "        <path d=\"M19 3H5c-1.1 0-2 .9-2 2v14c0 1.1.9 2 2 2h14c1.1 0 2-.9 2-2V5c0-1.1-.9-2-2-2zM9 17H7v-7h2v7zm4 0h-2V7h2v10zm4 0h-2v-4h2v4z\"/>\n",
              "    </g>\n",
              "</svg>\n",
              "      </button>\n",
              "\n",
              "<style>\n",
              "  .colab-df-quickchart {\n",
              "      --bg-color: #E8F0FE;\n",
              "      --fill-color: #1967D2;\n",
              "      --hover-bg-color: #E2EBFA;\n",
              "      --hover-fill-color: #174EA6;\n",
              "      --disabled-fill-color: #AAA;\n",
              "      --disabled-bg-color: #DDD;\n",
              "  }\n",
              "\n",
              "  [theme=dark] .colab-df-quickchart {\n",
              "      --bg-color: #3B4455;\n",
              "      --fill-color: #D2E3FC;\n",
              "      --hover-bg-color: #434B5C;\n",
              "      --hover-fill-color: #FFFFFF;\n",
              "      --disabled-bg-color: #3B4455;\n",
              "      --disabled-fill-color: #666;\n",
              "  }\n",
              "\n",
              "  .colab-df-quickchart {\n",
              "    background-color: var(--bg-color);\n",
              "    border: none;\n",
              "    border-radius: 50%;\n",
              "    cursor: pointer;\n",
              "    display: none;\n",
              "    fill: var(--fill-color);\n",
              "    height: 32px;\n",
              "    padding: 0;\n",
              "    width: 32px;\n",
              "  }\n",
              "\n",
              "  .colab-df-quickchart:hover {\n",
              "    background-color: var(--hover-bg-color);\n",
              "    box-shadow: 0 1px 2px rgba(60, 64, 67, 0.3), 0 1px 3px 1px rgba(60, 64, 67, 0.15);\n",
              "    fill: var(--button-hover-fill-color);\n",
              "  }\n",
              "\n",
              "  .colab-df-quickchart-complete:disabled,\n",
              "  .colab-df-quickchart-complete:disabled:hover {\n",
              "    background-color: var(--disabled-bg-color);\n",
              "    fill: var(--disabled-fill-color);\n",
              "    box-shadow: none;\n",
              "  }\n",
              "\n",
              "  .colab-df-spinner {\n",
              "    border: 2px solid var(--fill-color);\n",
              "    border-color: transparent;\n",
              "    border-bottom-color: var(--fill-color);\n",
              "    animation:\n",
              "      spin 1s steps(1) infinite;\n",
              "  }\n",
              "\n",
              "  @keyframes spin {\n",
              "    0% {\n",
              "      border-color: transparent;\n",
              "      border-bottom-color: var(--fill-color);\n",
              "      border-left-color: var(--fill-color);\n",
              "    }\n",
              "    20% {\n",
              "      border-color: transparent;\n",
              "      border-left-color: var(--fill-color);\n",
              "      border-top-color: var(--fill-color);\n",
              "    }\n",
              "    30% {\n",
              "      border-color: transparent;\n",
              "      border-left-color: var(--fill-color);\n",
              "      border-top-color: var(--fill-color);\n",
              "      border-right-color: var(--fill-color);\n",
              "    }\n",
              "    40% {\n",
              "      border-color: transparent;\n",
              "      border-right-color: var(--fill-color);\n",
              "      border-top-color: var(--fill-color);\n",
              "    }\n",
              "    60% {\n",
              "      border-color: transparent;\n",
              "      border-right-color: var(--fill-color);\n",
              "    }\n",
              "    80% {\n",
              "      border-color: transparent;\n",
              "      border-right-color: var(--fill-color);\n",
              "      border-bottom-color: var(--fill-color);\n",
              "    }\n",
              "    90% {\n",
              "      border-color: transparent;\n",
              "      border-bottom-color: var(--fill-color);\n",
              "    }\n",
              "  }\n",
              "</style>\n",
              "\n",
              "      <script>\n",
              "        async function quickchart(key) {\n",
              "          const quickchartButtonEl =\n",
              "            document.querySelector('#' + key + ' button');\n",
              "          quickchartButtonEl.disabled = true;  // To prevent multiple clicks.\n",
              "          quickchartButtonEl.classList.add('colab-df-spinner');\n",
              "          try {\n",
              "            const charts = await google.colab.kernel.invokeFunction(\n",
              "                'suggestCharts', [key], {});\n",
              "          } catch (error) {\n",
              "            console.error('Error during call to suggestCharts:', error);\n",
              "          }\n",
              "          quickchartButtonEl.classList.remove('colab-df-spinner');\n",
              "          quickchartButtonEl.classList.add('colab-df-quickchart-complete');\n",
              "        }\n",
              "        (() => {\n",
              "          let quickchartButtonEl =\n",
              "            document.querySelector('#df-60b42a2e-a021-4b49-b747-8b88685d7d1e button');\n",
              "          quickchartButtonEl.style.display =\n",
              "            google.colab.kernel.accessAllowed ? 'block' : 'none';\n",
              "        })();\n",
              "      </script>\n",
              "    </div>\n",
              "\n",
              "    </div>\n",
              "  </div>\n"
            ],
            "application/vnd.google.colaboratory.intrinsic+json": {
              "type": "dataframe",
              "summary": "{\n  \"name\": \"df_pico\",\n  \"rows\": 8,\n  \"fields\": [\n    {\n      \"column\": \"HORA\",\n      \"properties\": {\n        \"dtype\": \"number\",\n        \"std\": 44912.8264175461,\n        \"min\": 1.4142191279847078,\n        \"max\": 127050.0,\n        \"num_unique_values\": 7,\n        \"samples\": [\n          127050.0,\n          20.0,\n          21.0\n        ],\n        \"semantic_type\": \"\",\n        \"description\": \"\"\n      }\n    },\n    {\n      \"column\": \"DEMANDAPROV\",\n      \"properties\": {\n        \"dtype\": \"number\",\n        \"std\": 44292.79336957312,\n        \"min\": 0.0,\n        \"max\": 127050.0,\n        \"num_unique_values\": 8,\n        \"samples\": [\n          805.5011828414011,\n          300.35,\n          127050.0\n        ],\n        \"semantic_type\": \"\",\n        \"description\": \"\"\n      }\n    },\n    {\n      \"column\": \"target\",\n      \"properties\": {\n        \"dtype\": \"number\",\n        \"std\": 44918.87746600615,\n        \"min\": 0.0,\n        \"max\": 127050.0,\n        \"num_unique_values\": 5,\n        \"samples\": [\n          0.1999763872491145,\n          1.0,\n          0.3999838634707782\n        ],\n        \"semantic_type\": \"\",\n        \"description\": \"\"\n      }\n    }\n  ]\n}"
            }
          },
          "metadata": {},
          "execution_count": 192
        }
      ]
    },
    {
      "cell_type": "code",
      "source": [
        "plt.figure(figsize=(6, 4))\n",
        "sns.countplot(x='target', data=df_pico)\n",
        "plt.title('Grafico2: Distribución de Variable target (altademanda= 1, bajademanda=0)')\n",
        "plt.xlabel('Probabilidad de que una provincia experimente alta demanda en horas pico')\n",
        "plt.ylabel('demanda provincias')\n",
        "target_dist = df_pico['target'].value_counts(normalize=True) * 100\n",
        "\n",
        "plt.show()"
      ],
      "metadata": {
        "colab": {
          "base_uri": "https://localhost:8080/",
          "height": 411
        },
        "id": "0gptS9Cs8xsM",
        "outputId": "d3dc15a1-6f11-4544-c8f6-74c32d0f47bf"
      },
      "execution_count": 193,
      "outputs": [
        {
          "output_type": "display_data",
          "data": {
            "text/plain": [
              "<Figure size 600x400 with 1 Axes>"
            ],
            "image/png": "[encoded data removed]"
          },
          "metadata": {}
        }
      ]
    },
    {
      "cell_type": "markdown",
      "source": [
        "En el grafico 2 se puede observar que el df_pico esta desvalanceado, hay mas probabilidad de que las provincias tengan baja demanda para horas pico"
      ],
      "metadata": {
        "id": "eVM5mGo_9bDB"
      }
    },
    {
      "cell_type": "markdown",
      "source": [
        "Analisis de variables provincias vs target"
      ],
      "metadata": {
        "id": "GEjLj1h8-3NO"
      }
    },
    {
      "cell_type": "code",
      "source": [
        "# Violinplot: Distribución hora vs target\n",
        "plt.figure(figsize=(10, 6))\n",
        "sns.violinplot(data=df_pico, x='HORA', y='target', palette='plasma', inner='quartile') # inner='quartile' muestra los cuartiles dentro\n",
        "plt.title('Grafico 3: Distribución hora vs target')\n",
        "plt.xlabel('hora ')\n",
        "plt.ylabel('target')\n",
        "plt.show()"
      ],
      "metadata": {
        "colab": {
          "base_uri": "https://localhost:8080/",
          "height": 565
        },
        "id": "C1z9YsTwA-eq",
        "outputId": "1c0a578d-e873-4d47-ca67-bf8a40ffd02f"
      },
      "execution_count": 211,
      "outputs": [
        {
          "output_type": "display_data",
          "data": {
            "text/plain": [
              "<Figure size 1000x600 with 1 Axes>"
            ],
            "image/png": "[encoded data removed]"
          },
          "metadata": {}
        }
      ]
    },
    {
      "cell_type": "markdown",
      "source": [
        "En el gráfico 3 se observa que la distribución de el taget para las diferentes horas es similar"
      ],
      "metadata": {
        "id": "qzhtp91sBpQj"
      }
    },
    {
      "cell_type": "code",
      "source": [
        "# Violinplot: Distribución Tipo dia vs target\n",
        "plt.figure(figsize=(10, 6))\n",
        "sns.violinplot(data=df_pico, x='TIPODIA', y='target', palette='plasma', inner='quartile') # inner='quartile' muestra los cuartiles dentro\n",
        "plt.title('Grafico 4: Distribución tipo dia vs target')\n",
        "plt.xlabel('dia')\n",
        "plt.ylabel('target')\n",
        "plt.show()"
      ],
      "metadata": {
        "colab": {
          "base_uri": "https://localhost:8080/",
          "height": 565
        },
        "id": "8C-_Y-KRDff7",
        "outputId": "d5ad9d25-f2bf-4a04-8bd0-d24de17660f0"
      },
      "execution_count": 212,
      "outputs": [
        {
          "output_type": "display_data",
          "data": {
            "text/plain": [
              "<Figure size 1000x600 with 1 Axes>"
            ],
            "image/png": "[encoded data removed]"
          },
          "metadata": {}
        }
      ]
    },
    {
      "cell_type": "markdown",
      "source": [
        "En el gráfico 4 se observa que la distribución de el taget para los dias habiles y no habiles son similares. Sin embargo para los dias habiles la distribución de los datos con taget 1 (altademanda) es mayor. Se puede deducir que en los dias habiles hay mayor demanda"
      ],
      "metadata": {
        "id": "HRAdZxkHDtb4"
      }
    },
    {
      "cell_type": "markdown",
      "source": [
        "## 6.Preprocesamiento de Datos"
      ],
      "metadata": {
        "id": "MiOgWRDIF39p"
      }
    },
    {
      "cell_type": "code",
      "source": [
        "# Definir las características (X) y la variable objetivo (y)\n",
        "X = df_pico[['PROVINCIAS', 'HORA', 'TIPODIA', 'DEMANDAPROV']]\n",
        "y = df_pico['target']"
      ],
      "metadata": {
        "id": "FoBNQbRRGApL"
      },
      "execution_count": 216,
      "outputs": []
    },
    {
      "cell_type": "code",
      "source": [
        "# Crear el preprocesador usando ColumnTransformer\n",
        "\n",
        "# 1. OneHotEncoder para las variables categóricas\n",
        "#    handle_unknown='ignore' es útil si aparecen valores en test que no estaban en train.\n",
        "#    drop='first' puede usarse para evitar multicolinealidad, aunque RF es menos sensible. Lo omitimos por simplicidad.\n",
        "# StandardScaler para las variables numéricas continuas.\n",
        "\n",
        "#Definir variables\n",
        "categorical_features_for_encoding= ['PROVINCIAS', 'TIPODIA']\n",
        "numerical_features_for_scaling = ['DEMANDAPROV']\n",
        "\n",
        "\n",
        "\n",
        "preprocessor = ColumnTransformer(\n",
        "    transformers=[\n",
        "        ('num', StandardScaler(), numerical_features_for_scaling),\n",
        "        ('cat', OneHotEncoder(handle_unknown='ignore'), categorical_features_for_encoding)\n",
        "    ],\n",
        "    remainder='passthrough' # Si hubiera columnas no especificadas, las dejaría pasar\n",
        "    # O usa remainder='drop' si quieres asegurar que solo se usen las especificadas\n",
        ")\n",
        "\n"
      ],
      "metadata": {
        "id": "jxe2YZmMOeYV"
      },
      "execution_count": 214,
      "outputs": []
    },
    {
      "cell_type": "code",
      "source": [
        "preprocessor"
      ],
      "metadata": {
        "colab": {
          "base_uri": "https://localhost:8080/",
          "height": 148
        },
        "id": "H0P-MeYuQQqW",
        "outputId": "00d1f389-bb62-4a22-acdb-89f70baef181"
      },
      "execution_count": 215,
      "outputs": [
        {
          "output_type": "execute_result",
          "data": {
            "text/plain": [
              "ColumnTransformer(remainder='passthrough',\n",
              "                  transformers=[('num', StandardScaler(), ['DEMANDAPROV']),\n",
              "                                ('cat', OneHotEncoder(handle_unknown='ignore'),\n",
              "                                 ['PROVINCIAS', 'TIPODIA'])])"
            ],
            "text/html": [
              "<style>#sk-container-id-5 {\n",
              "  /* Definition of color scheme common for light and dark mode */\n",
              "  --sklearn-color-text: #000;\n",
              "  --sklearn-color-text-muted: #666;\n",
              "  --sklearn-color-line: gray;\n",
              "  /* Definition of color scheme for unfitted estimators */\n",
              "  --sklearn-color-unfitted-level-0: #fff5e6;\n",
              "  --sklearn-color-unfitted-level-1: #f6e4d2;\n",
              "  --sklearn-color-unfitted-level-2: #ffe0b3;\n",
              "  --sklearn-color-unfitted-level-3: chocolate;\n",
              "  /* Definition of color scheme for fitted estimators */\n",
              "  --sklearn-color-fitted-level-0: #f0f8ff;\n",
              "  --sklearn-color-fitted-level-1: #d4ebff;\n",
              "  --sklearn-color-fitted-level-2: #b3dbfd;\n",
              "  --sklearn-color-fitted-level-3: cornflowerblue;\n",
              "\n",
              "  /* Specific color for light theme */\n",
              "  --sklearn-color-text-on-default-background: var(--sg-text-color, var(--theme-code-foreground, var(--jp-content-font-color1, black)));\n",
              "  --sklearn-color-background: var(--sg-background-color, var(--theme-background, var(--jp-layout-color0, white)));\n",
              "  --sklearn-color-border-box: var(--sg-text-color, var(--theme-code-foreground, var(--jp-content-font-color1, black)));\n",
              "  --sklearn-color-icon: #696969;\n",
              "\n",
              "  @media (prefers-color-scheme: dark) {\n",
              "    /* Redefinition of color scheme for dark theme */\n",
              "    --sklearn-color-text-on-default-background: var(--sg-text-color, var(--theme-code-foreground, var(--jp-content-font-color1, white)));\n",
              "    --sklearn-color-background: var(--sg-background-color, var(--theme-background, var(--jp-layout-color0, #111)));\n",
              "    --sklearn-color-border-box: var(--sg-text-color, var(--theme-code-foreground, var(--jp-content-font-color1, white)));\n",
              "    --sklearn-color-icon: #878787;\n",
              "  }\n",
              "}\n",
              "\n",
              "#sk-container-id-5 {\n",
              "  color: var(--sklearn-color-text);\n",
              "}\n",
              "\n",
              "#sk-container-id-5 pre {\n",
              "  padding: 0;\n",
              "}\n",
              "\n",
              "#sk-container-id-5 input.sk-hidden--visually {\n",
              "  border: 0;\n",
              "  clip: rect(1px 1px 1px 1px);\n",
              "  clip: rect(1px, 1px, 1px, 1px);\n",
              "  height: 1px;\n",
              "  margin: -1px;\n",
              "  overflow: hidden;\n",
              "  padding: 0;\n",
              "  position: absolute;\n",
              "  width: 1px;\n",
              "}\n",
              "\n",
              "#sk-container-id-5 div.sk-dashed-wrapped {\n",
              "  border: 1px dashed var(--sklearn-color-line);\n",
              "  margin: 0 0.4em 0.5em 0.4em;\n",
              "  box-sizing: border-box;\n",
              "  padding-bottom: 0.4em;\n",
              "  background-color: var(--sklearn-color-background);\n",
              "}\n",
              "\n",
              "#sk-container-id-5 div.sk-container {\n",
              "  /* jupyter's `normalize.less` sets `[hidden] { display: none; }`\n",
              "     but bootstrap.min.css set `[hidden] { display: none !important; }`\n",
              "     so we also need the `!important` here to be able to override the\n",
              "     default hidden behavior on the sphinx rendered scikit-learn.org.\n",
              "     See: https://github.com/scikit-learn/scikit-learn/issues/21755 */\n",
              "  display: inline-block !important;\n",
              "  position: relative;\n",
              "}\n",
              "\n",
              "#sk-container-id-5 div.sk-text-repr-fallback {\n",
              "  display: none;\n",
              "}\n",
              "\n",
              "div.sk-parallel-item,\n",
              "div.sk-serial,\n",
              "div.sk-item {\n",
              "  /* draw centered vertical line to link estimators */\n",
              "  background-image: linear-gradient(var(--sklearn-color-text-on-default-background), var(--sklearn-color-text-on-default-background));\n",
              "  background-size: 2px 100%;\n",
              "  background-repeat: no-repeat;\n",
              "  background-position: center center;\n",
              "}\n",
              "\n",
              "/* Parallel-specific style estimator block */\n",
              "\n",
              "#sk-container-id-5 div.sk-parallel-item::after {\n",
              "  content: \"\";\n",
              "  width: 100%;\n",
              "  border-bottom: 2px solid var(--sklearn-color-text-on-default-background);\n",
              "  flex-grow: 1;\n",
              "}\n",
              "\n",
              "#sk-container-id-5 div.sk-parallel {\n",
              "  display: flex;\n",
              "  align-items: stretch;\n",
              "  justify-content: center;\n",
              "  background-color: var(--sklearn-color-background);\n",
              "  position: relative;\n",
              "}\n",
              "\n",
              "#sk-container-id-5 div.sk-parallel-item {\n",
              "  display: flex;\n",
              "  flex-direction: column;\n",
              "}\n",
              "\n",
              "#sk-container-id-5 div.sk-parallel-item:first-child::after {\n",
              "  align-self: flex-end;\n",
              "  width: 50%;\n",
              "}\n",
              "\n",
              "#sk-container-id-5 div.sk-parallel-item:last-child::after {\n",
              "  align-self: flex-start;\n",
              "  width: 50%;\n",
              "}\n",
              "\n",
              "#sk-container-id-5 div.sk-parallel-item:only-child::after {\n",
              "  width: 0;\n",
              "}\n",
              "\n",
              "/* Serial-specific style estimator block */\n",
              "\n",
              "#sk-container-id-5 div.sk-serial {\n",
              "  display: flex;\n",
              "  flex-direction: column;\n",
              "  align-items: center;\n",
              "  background-color: var(--sklearn-color-background);\n",
              "  padding-right: 1em;\n",
              "  padding-left: 1em;\n",
              "}\n",
              "\n",
              "\n",
              "/* Toggleable style: style used for estimator/Pipeline/ColumnTransformer box that is\n",
              "clickable and can be expanded/collapsed.\n",
              "- Pipeline and ColumnTransformer use this feature and define the default style\n",
              "- Estimators will overwrite some part of the style using the `sk-estimator` class\n",
              "*/\n",
              "\n",
              "/* Pipeline and ColumnTransformer style (default) */\n",
              "\n",
              "#sk-container-id-5 div.sk-toggleable {\n",
              "  /* Default theme specific background. It is overwritten whether we have a\n",
              "  specific estimator or a Pipeline/ColumnTransformer */\n",
              "  background-color: var(--sklearn-color-background);\n",
              "}\n",
              "\n",
              "/* Toggleable label */\n",
              "#sk-container-id-5 label.sk-toggleable__label {\n",
              "  cursor: pointer;\n",
              "  display: flex;\n",
              "  width: 100%;\n",
              "  margin-bottom: 0;\n",
              "  padding: 0.5em;\n",
              "  box-sizing: border-box;\n",
              "  text-align: center;\n",
              "  align-items: start;\n",
              "  justify-content: space-between;\n",
              "  gap: 0.5em;\n",
              "}\n",
              "\n",
              "#sk-container-id-5 label.sk-toggleable__label .caption {\n",
              "  font-size: 0.6rem;\n",
              "  font-weight: lighter;\n",
              "  color: var(--sklearn-color-text-muted);\n",
              "}\n",
              "\n",
              "#sk-container-id-5 label.sk-toggleable__label-arrow:before {\n",
              "  /* Arrow on the left of the label */\n",
              "  content: \"▸\";\n",
              "  float: left;\n",
              "  margin-right: 0.25em;\n",
              "  color: var(--sklearn-color-icon);\n",
              "}\n",
              "\n",
              "#sk-container-id-5 label.sk-toggleable__label-arrow:hover:before {\n",
              "  color: var(--sklearn-color-text);\n",
              "}\n",
              "\n",
              "/* Toggleable content - dropdown */\n",
              "\n",
              "#sk-container-id-5 div.sk-toggleable__content {\n",
              "  max-height: 0;\n",
              "  max-width: 0;\n",
              "  overflow: hidden;\n",
              "  text-align: left;\n",
              "  /* unfitted */\n",
              "  background-color: var(--sklearn-color-unfitted-level-0);\n",
              "}\n",
              "\n",
              "#sk-container-id-5 div.sk-toggleable__content.fitted {\n",
              "  /* fitted */\n",
              "  background-color: var(--sklearn-color-fitted-level-0);\n",
              "}\n",
              "\n",
              "#sk-container-id-5 div.sk-toggleable__content pre {\n",
              "  margin: 0.2em;\n",
              "  border-radius: 0.25em;\n",
              "  color: var(--sklearn-color-text);\n",
              "  /* unfitted */\n",
              "  background-color: var(--sklearn-color-unfitted-level-0);\n",
              "}\n",
              "\n",
              "#sk-container-id-5 div.sk-toggleable__content.fitted pre {\n",
              "  /* unfitted */\n",
              "  background-color: var(--sklearn-color-fitted-level-0);\n",
              "}\n",
              "\n",
              "#sk-container-id-5 input.sk-toggleable__control:checked~div.sk-toggleable__content {\n",
              "  /* Expand drop-down */\n",
              "  max-height: 200px;\n",
              "  max-width: 100%;\n",
              "  overflow: auto;\n",
              "}\n",
              "\n",
              "#sk-container-id-5 input.sk-toggleable__control:checked~label.sk-toggleable__label-arrow:before {\n",
              "  content: \"▾\";\n",
              "}\n",
              "\n",
              "/* Pipeline/ColumnTransformer-specific style */\n",
              "\n",
              "#sk-container-id-5 div.sk-label input.sk-toggleable__control:checked~label.sk-toggleable__label {\n",
              "  color: var(--sklearn-color-text);\n",
              "  background-color: var(--sklearn-color-unfitted-level-2);\n",
              "}\n",
              "\n",
              "#sk-container-id-5 div.sk-label.fitted input.sk-toggleable__control:checked~label.sk-toggleable__label {\n",
              "  background-color: var(--sklearn-color-fitted-level-2);\n",
              "}\n",
              "\n",
              "/* Estimator-specific style */\n",
              "\n",
              "/* Colorize estimator box */\n",
              "#sk-container-id-5 div.sk-estimator input.sk-toggleable__control:checked~label.sk-toggleable__label {\n",
              "  /* unfitted */\n",
              "  background-color: var(--sklearn-color-unfitted-level-2);\n",
              "}\n",
              "\n",
              "#sk-container-id-5 div.sk-estimator.fitted input.sk-toggleable__control:checked~label.sk-toggleable__label {\n",
              "  /* fitted */\n",
              "  background-color: var(--sklearn-color-fitted-level-2);\n",
              "}\n",
              "\n",
              "#sk-container-id-5 div.sk-label label.sk-toggleable__label,\n",
              "#sk-container-id-5 div.sk-label label {\n",
              "  /* The background is the default theme color */\n",
              "  color: var(--sklearn-color-text-on-default-background);\n",
              "}\n",
              "\n",
              "/* On hover, darken the color of the background */\n",
              "#sk-container-id-5 div.sk-label:hover label.sk-toggleable__label {\n",
              "  color: var(--sklearn-color-text);\n",
              "  background-color: var(--sklearn-color-unfitted-level-2);\n",
              "}\n",
              "\n",
              "/* Label box, darken color on hover, fitted */\n",
              "#sk-container-id-5 div.sk-label.fitted:hover label.sk-toggleable__label.fitted {\n",
              "  color: var(--sklearn-color-text);\n",
              "  background-color: var(--sklearn-color-fitted-level-2);\n",
              "}\n",
              "\n",
              "/* Estimator label */\n",
              "\n",
              "#sk-container-id-5 div.sk-label label {\n",
              "  font-family: monospace;\n",
              "  font-weight: bold;\n",
              "  display: inline-block;\n",
              "  line-height: 1.2em;\n",
              "}\n",
              "\n",
              "#sk-container-id-5 div.sk-label-container {\n",
              "  text-align: center;\n",
              "}\n",
              "\n",
              "/* Estimator-specific */\n",
              "#sk-container-id-5 div.sk-estimator {\n",
              "  font-family: monospace;\n",
              "  border: 1px dotted var(--sklearn-color-border-box);\n",
              "  border-radius: 0.25em;\n",
              "  box-sizing: border-box;\n",
              "  margin-bottom: 0.5em;\n",
              "  /* unfitted */\n",
              "  background-color: var(--sklearn-color-unfitted-level-0);\n",
              "}\n",
              "\n",
              "#sk-container-id-5 div.sk-estimator.fitted {\n",
              "  /* fitted */\n",
              "  background-color: var(--sklearn-color-fitted-level-0);\n",
              "}\n",
              "\n",
              "/* on hover */\n",
              "#sk-container-id-5 div.sk-estimator:hover {\n",
              "  /* unfitted */\n",
              "  background-color: var(--sklearn-color-unfitted-level-2);\n",
              "}\n",
              "\n",
              "#sk-container-id-5 div.sk-estimator.fitted:hover {\n",
              "  /* fitted */\n",
              "  background-color: var(--sklearn-color-fitted-level-2);\n",
              "}\n",
              "\n",
              "/* Specification for estimator info (e.g. \"i\" and \"?\") */\n",
              "\n",
              "/* Common style for \"i\" and \"?\" */\n",
              "\n",
              ".sk-estimator-doc-link,\n",
              "a:link.sk-estimator-doc-link,\n",
              "a:visited.sk-estimator-doc-link {\n",
              "  float: right;\n",
              "  font-size: smaller;\n",
              "  line-height: 1em;\n",
              "  font-family: monospace;\n",
              "  background-color: var(--sklearn-color-background);\n",
              "  border-radius: 1em;\n",
              "  height: 1em;\n",
              "  width: 1em;\n",
              "  text-decoration: none !important;\n",
              "  margin-left: 0.5em;\n",
              "  text-align: center;\n",
              "  /* unfitted */\n",
              "  border: var(--sklearn-color-unfitted-level-1) 1pt solid;\n",
              "  color: var(--sklearn-color-unfitted-level-1);\n",
              "}\n",
              "\n",
              ".sk-estimator-doc-link.fitted,\n",
              "a:link.sk-estimator-doc-link.fitted,\n",
              "a:visited.sk-estimator-doc-link.fitted {\n",
              "  /* fitted */\n",
              "  border: var(--sklearn-color-fitted-level-1) 1pt solid;\n",
              "  color: var(--sklearn-color-fitted-level-1);\n",
              "}\n",
              "\n",
              "/* On hover */\n",
              "div.sk-estimator:hover .sk-estimator-doc-link:hover,\n",
              ".sk-estimator-doc-link:hover,\n",
              "div.sk-label-container:hover .sk-estimator-doc-link:hover,\n",
              ".sk-estimator-doc-link:hover {\n",
              "  /* unfitted */\n",
              "  background-color: var(--sklearn-color-unfitted-level-3);\n",
              "  color: var(--sklearn-color-background);\n",
              "  text-decoration: none;\n",
              "}\n",
              "\n",
              "div.sk-estimator.fitted:hover .sk-estimator-doc-link.fitted:hover,\n",
              ".sk-estimator-doc-link.fitted:hover,\n",
              "div.sk-label-container:hover .sk-estimator-doc-link.fitted:hover,\n",
              ".sk-estimator-doc-link.fitted:hover {\n",
              "  /* fitted */\n",
              "  background-color: var(--sklearn-color-fitted-level-3);\n",
              "  color: var(--sklearn-color-background);\n",
              "  text-decoration: none;\n",
              "}\n",
              "\n",
              "/* Span, style for the box shown on hovering the info icon */\n",
              ".sk-estimator-doc-link span {\n",
              "  display: none;\n",
              "  z-index: 9999;\n",
              "  position: relative;\n",
              "  font-weight: normal;\n",
              "  right: .2ex;\n",
              "  padding: .5ex;\n",
              "  margin: .5ex;\n",
              "  width: min-content;\n",
              "  min-width: 20ex;\n",
              "  max-width: 50ex;\n",
              "  color: var(--sklearn-color-text);\n",
              "  box-shadow: 2pt 2pt 4pt #999;\n",
              "  /* unfitted */\n",
              "  background: var(--sklearn-color-unfitted-level-0);\n",
              "  border: .5pt solid var(--sklearn-color-unfitted-level-3);\n",
              "}\n",
              "\n",
              ".sk-estimator-doc-link.fitted span {\n",
              "  /* fitted */\n",
              "  background: var(--sklearn-color-fitted-level-0);\n",
              "  border: var(--sklearn-color-fitted-level-3);\n",
              "}\n",
              "\n",
              ".sk-estimator-doc-link:hover span {\n",
              "  display: block;\n",
              "}\n",
              "\n",
              "/* \"?\"-specific style due to the `<a>` HTML tag */\n",
              "\n",
              "#sk-container-id-5 a.estimator_doc_link {\n",
              "  float: right;\n",
              "  font-size: 1rem;\n",
              "  line-height: 1em;\n",
              "  font-family: monospace;\n",
              "  background-color: var(--sklearn-color-background);\n",
              "  border-radius: 1rem;\n",
              "  height: 1rem;\n",
              "  width: 1rem;\n",
              "  text-decoration: none;\n",
              "  /* unfitted */\n",
              "  color: var(--sklearn-color-unfitted-level-1);\n",
              "  border: var(--sklearn-color-unfitted-level-1) 1pt solid;\n",
              "}\n",
              "\n",
              "#sk-container-id-5 a.estimator_doc_link.fitted {\n",
              "  /* fitted */\n",
              "  border: var(--sklearn-color-fitted-level-1) 1pt solid;\n",
              "  color: var(--sklearn-color-fitted-level-1);\n",
              "}\n",
              "\n",
              "/* On hover */\n",
              "#sk-container-id-5 a.estimator_doc_link:hover {\n",
              "  /* unfitted */\n",
              "  background-color: var(--sklearn-color-unfitted-level-3);\n",
              "  color: var(--sklearn-color-background);\n",
              "  text-decoration: none;\n",
              "}\n",
              "\n",
              "#sk-container-id-5 a.estimator_doc_link.fitted:hover {\n",
              "  /* fitted */\n",
              "  background-color: var(--sklearn-color-fitted-level-3);\n",
              "}\n",
              "</style><div id=\"sk-container-id-5\" class=\"sk-top-container\"><div class=\"sk-text-repr-fallback\"><pre>ColumnTransformer(remainder=&#x27;passthrough&#x27;,\n",
              "                  transformers=[(&#x27;num&#x27;, StandardScaler(), [&#x27;DEMANDAPROV&#x27;]),\n",
              "                                (&#x27;cat&#x27;, OneHotEncoder(handle_unknown=&#x27;ignore&#x27;),\n",
              "                                 [&#x27;PROVINCIAS&#x27;, &#x27;TIPODIA&#x27;])])</pre><b>In a Jupyter environment, please rerun this cell to show the HTML representation or trust the notebook. <br />On GitHub, the HTML representation is unable to render, please try loading this page with nbviewer.org.</b></div><div class=\"sk-container\" hidden><div class=\"sk-item sk-dashed-wrapped\"><div class=\"sk-label-container\"><div class=\"sk-label  sk-toggleable\"><input class=\"sk-toggleable__control sk-hidden--visually\" id=\"sk-estimator-id-33\" type=\"checkbox\" ><label for=\"sk-estimator-id-33\" class=\"sk-toggleable__label  sk-toggleable__label-arrow\"><div><div>ColumnTransformer</div></div><div><a class=\"sk-estimator-doc-link \" rel=\"noreferrer\" target=\"_blank\" href=\"https://scikit-learn.org/1.6/modules/generated/sklearn.compose.ColumnTransformer.html\">?<span>Documentation for ColumnTransformer</span></a><span class=\"sk-estimator-doc-link \">i<span>Not fitted</span></span></div></label><div class=\"sk-toggleable__content \"><pre>ColumnTransformer(remainder=&#x27;passthrough&#x27;,\n",
              "                  transformers=[(&#x27;num&#x27;, StandardScaler(), [&#x27;DEMANDAPROV&#x27;]),\n",
              "                                (&#x27;cat&#x27;, OneHotEncoder(handle_unknown=&#x27;ignore&#x27;),\n",
              "                                 [&#x27;PROVINCIAS&#x27;, &#x27;TIPODIA&#x27;])])</pre></div> </div></div><div class=\"sk-parallel\"><div class=\"sk-parallel-item\"><div class=\"sk-item\"><div class=\"sk-label-container\"><div class=\"sk-label  sk-toggleable\"><input class=\"sk-toggleable__control sk-hidden--visually\" id=\"sk-estimator-id-34\" type=\"checkbox\" ><label for=\"sk-estimator-id-34\" class=\"sk-toggleable__label  sk-toggleable__label-arrow\"><div><div>num</div></div></label><div class=\"sk-toggleable__content \"><pre>[&#x27;DEMANDAPROV&#x27;]</pre></div> </div></div><div class=\"sk-serial\"><div class=\"sk-item\"><div class=\"sk-estimator  sk-toggleable\"><input class=\"sk-toggleable__control sk-hidden--visually\" id=\"sk-estimator-id-35\" type=\"checkbox\" ><label for=\"sk-estimator-id-35\" class=\"sk-toggleable__label  sk-toggleable__label-arrow\"><div><div>StandardScaler</div></div><div><a class=\"sk-estimator-doc-link \" rel=\"noreferrer\" target=\"_blank\" href=\"https://scikit-learn.org/1.6/modules/generated/sklearn.preprocessing.StandardScaler.html\">?<span>Documentation for StandardScaler</span></a></div></label><div class=\"sk-toggleable__content \"><pre>StandardScaler()</pre></div> </div></div></div></div></div><div class=\"sk-parallel-item\"><div class=\"sk-item\"><div class=\"sk-label-container\"><div class=\"sk-label  sk-toggleable\"><input class=\"sk-toggleable__control sk-hidden--visually\" id=\"sk-estimator-id-36\" type=\"checkbox\" ><label for=\"sk-estimator-id-36\" class=\"sk-toggleable__label  sk-toggleable__label-arrow\"><div><div>cat</div></div></label><div class=\"sk-toggleable__content \"><pre>[&#x27;PROVINCIAS&#x27;, &#x27;TIPODIA&#x27;]</pre></div> </div></div><div class=\"sk-serial\"><div class=\"sk-item\"><div class=\"sk-estimator  sk-toggleable\"><input class=\"sk-toggleable__control sk-hidden--visually\" id=\"sk-estimator-id-37\" type=\"checkbox\" ><label for=\"sk-estimator-id-37\" class=\"sk-toggleable__label  sk-toggleable__label-arrow\"><div><div>OneHotEncoder</div></div><div><a class=\"sk-estimator-doc-link \" rel=\"noreferrer\" target=\"_blank\" href=\"https://scikit-learn.org/1.6/modules/generated/sklearn.preprocessing.OneHotEncoder.html\">?<span>Documentation for OneHotEncoder</span></a></div></label><div class=\"sk-toggleable__content \"><pre>OneHotEncoder(handle_unknown=&#x27;ignore&#x27;)</pre></div> </div></div></div></div></div><div class=\"sk-parallel-item\"><div class=\"sk-item\"><div class=\"sk-label-container\"><div class=\"sk-label  sk-toggleable\"><input class=\"sk-toggleable__control sk-hidden--visually\" id=\"sk-estimator-id-38\" type=\"checkbox\" ><label for=\"sk-estimator-id-38\" class=\"sk-toggleable__label  sk-toggleable__label-arrow\"><div><div>remainder</div></div></label><div class=\"sk-toggleable__content \"><pre></pre></div> </div></div><div class=\"sk-serial\"><div class=\"sk-item\"><div class=\"sk-estimator  sk-toggleable\"><input class=\"sk-toggleable__control sk-hidden--visually\" id=\"sk-estimator-id-39\" type=\"checkbox\" ><label for=\"sk-estimator-id-39\" class=\"sk-toggleable__label  sk-toggleable__label-arrow\"><div><div>passthrough</div></div></label><div class=\"sk-toggleable__content \"><pre>passthrough</pre></div> </div></div></div></div></div></div></div></div></div>"
            ]
          },
          "metadata": {},
          "execution_count": 215
        }
      ]
    },
    {
      "cell_type": "markdown",
      "source": [
        "## 7.División de datos"
      ],
      "metadata": {
        "id": "e9Qe1NWtQry6"
      }
    },
    {
      "cell_type": "markdown",
      "source": [
        "Se separan los datos en conjuntos de entrenamiento y prueba."
      ],
      "metadata": {
        "id": "IcfL9RxQF7BD"
      }
    },
    {
      "cell_type": "code",
      "source": [
        "# Dividir los datos ANTES de aplicar el preprocesamiento (específicamente el escalado)\n",
        "# Usamos stratify=y para mantener la proporción de clases en ambos conjuntos\n",
        "X_train, X_test, y_train, y_test = train_test_split(X, y, test_size=0.25, random_state=42, stratify=y)"
      ],
      "metadata": {
        "id": "Pome2J3YQ4yv"
      },
      "execution_count": 199,
      "outputs": []
    },
    {
      "cell_type": "code",
      "source": [
        "print(f\"Tamaño del conjunto de entrenamiento (X_train): {X_train.shape}\")\n",
        "print(f\"Tamaño del conjunto de prueba (X_test): {X_test.shape}\")\n",
        "print(f\"Tamaño del conjunto de entrenamiento (y_train): {y_train.shape}\")\n",
        "print(f\"Tamaño del conjunto de prueba (y_test): {y_test.shape}\")"
      ],
      "metadata": {
        "colab": {
          "base_uri": "https://localhost:8080/"
        },
        "id": "3oU66_dXRFIu",
        "outputId": "ba7c0544-ece4-4b0e-e613-51a71f650e20"
      },
      "execution_count": 200,
      "outputs": [
        {
          "output_type": "stream",
          "name": "stdout",
          "text": [
            "Tamaño del conjunto de entrenamiento (X_train): (95287, 4)\n",
            "Tamaño del conjunto de prueba (X_test): (31763, 4)\n",
            "Tamaño del conjunto de entrenamiento (y_train): (95287,)\n",
            "Tamaño del conjunto de prueba (y_test): (31763,)\n"
          ]
        }
      ]
    },
    {
      "cell_type": "code",
      "source": [
        "print(\"\\nDistribución de la variable objetivo en Train vs Test:\")\n",
        "print(f\"Train: \\n{y_train.value_counts(normalize=True)}\")\n",
        "print(f\"Test: \\n{y_test.value_counts(normalize=True)}\")"
      ],
      "metadata": {
        "colab": {
          "base_uri": "https://localhost:8080/"
        },
        "id": "dKmoLarSRXXP",
        "outputId": "1e3a9d18-191f-4f1b-9e3f-256ebbfd6738"
      },
      "execution_count": 217,
      "outputs": [
        {
          "output_type": "stream",
          "name": "stdout",
          "text": [
            "\n",
            "Distribución de la variable objetivo en Train vs Test:\n",
            "Train: \n",
            "target\n",
            "0    0.800025\n",
            "1    0.199975\n",
            "Name: proportion, dtype: float64\n",
            "Test: \n",
            "target\n",
            "0    0.800019\n",
            "1    0.199981\n",
            "Name: proportion, dtype: float64\n"
          ]
        }
      ]
    },
    {
      "cell_type": "markdown",
      "source": [
        "## 8.Construcción y Entrenamiento del Modelo (RandomForestClassifier)"
      ],
      "metadata": {
        "id": "woG60pNKF93r"
      }
    },
    {
      "cell_type": "code",
      "source": [
        "# Crear el pipeline: incluye el preprocesador y el clasificador\n",
        "# Esto asegura que el preprocesamiento se ajuste (\"fit\") SOLO en los datos de entrenamiento\n",
        "# y luego se aplique (\"transform\") tanto a los datos de entrenamiento como a los de prueba.\n",
        "model_pipeline = Pipeline(steps=[\n",
        "    ('preprocessor', preprocessor),\n",
        "    ('classifier', RandomForestClassifier(n_estimators=100, random_state=42, class_weight='balanced'))\n",
        "    # n_estimators: número de árboles en el bosque. 100 es un buen punto de partida.\n",
        "    # random_state: para reproducibilidad.\n",
        "    # class_weight='balanced': útil si las clases están desbalanceadas, ajusta pesos inversamente proporcional a la frecuencia.\n",
        "])\n",
        "\n",
        "# Entrenar el pipeline completo (preprocesamiento + modelo)\n",
        "model_pipeline.fit(X_train, y_train)"
      ],
      "metadata": {
        "colab": {
          "base_uri": "https://localhost:8080/",
          "height": 246
        },
        "id": "bT2FxBAZRse3",
        "outputId": "3dcfef24-a235-489f-8455-a9d8f8993378"
      },
      "execution_count": 202,
      "outputs": [
        {
          "output_type": "execute_result",
          "data": {
            "text/plain": [
              "Pipeline(steps=[('preprocessor',\n",
              "                 ColumnTransformer(remainder='passthrough',\n",
              "                                   transformers=[('num', StandardScaler(),\n",
              "                                                  ['DEMANDAPROV']),\n",
              "                                                 ('cat',\n",
              "                                                  OneHotEncoder(handle_unknown='ignore'),\n",
              "                                                  ['PROVINCIAS', 'TIPODIA'])])),\n",
              "                ('classifier',\n",
              "                 RandomForestClassifier(class_weight='balanced',\n",
              "                                        random_state=42))])"
            ],
            "text/html": [
              "<style>#sk-container-id-4 {\n",
              "  /* Definition of color scheme common for light and dark mode */\n",
              "  --sklearn-color-text: #000;\n",
              "  --sklearn-color-text-muted: #666;\n",
              "  --sklearn-color-line: gray;\n",
              "  /* Definition of color scheme for unfitted estimators */\n",
              "  --sklearn-color-unfitted-level-0: #fff5e6;\n",
              "  --sklearn-color-unfitted-level-1: #f6e4d2;\n",
              "  --sklearn-color-unfitted-level-2: #ffe0b3;\n",
              "  --sklearn-color-unfitted-level-3: chocolate;\n",
              "  /* Definition of color scheme for fitted estimators */\n",
              "  --sklearn-color-fitted-level-0: #f0f8ff;\n",
              "  --sklearn-color-fitted-level-1: #d4ebff;\n",
              "  --sklearn-color-fitted-level-2: #b3dbfd;\n",
              "  --sklearn-color-fitted-level-3: cornflowerblue;\n",
              "\n",
              "  /* Specific color for light theme */\n",
              "  --sklearn-color-text-on-default-background: var(--sg-text-color, var(--theme-code-foreground, var(--jp-content-font-color1, black)));\n",
              "  --sklearn-color-background: var(--sg-background-color, var(--theme-background, var(--jp-layout-color0, white)));\n",
              "  --sklearn-color-border-box: var(--sg-text-color, var(--theme-code-foreground, var(--jp-content-font-color1, black)));\n",
              "  --sklearn-color-icon: #696969;\n",
              "\n",
              "  @media (prefers-color-scheme: dark) {\n",
              "    /* Redefinition of color scheme for dark theme */\n",
              "    --sklearn-color-text-on-default-background: var(--sg-text-color, var(--theme-code-foreground, var(--jp-content-font-color1, white)));\n",
              "    --sklearn-color-background: var(--sg-background-color, var(--theme-background, var(--jp-layout-color0, #111)));\n",
              "    --sklearn-color-border-box: var(--sg-text-color, var(--theme-code-foreground, var(--jp-content-font-color1, white)));\n",
              "    --sklearn-color-icon: #878787;\n",
              "  }\n",
              "}\n",
              "\n",
              "#sk-container-id-4 {\n",
              "  color: var(--sklearn-color-text);\n",
              "}\n",
              "\n",
              "#sk-container-id-4 pre {\n",
              "  padding: 0;\n",
              "}\n",
              "\n",
              "#sk-container-id-4 input.sk-hidden--visually {\n",
              "  border: 0;\n",
              "  clip: rect(1px 1px 1px 1px);\n",
              "  clip: rect(1px, 1px, 1px, 1px);\n",
              "  height: 1px;\n",
              "  margin: -1px;\n",
              "  overflow: hidden;\n",
              "  padding: 0;\n",
              "  position: absolute;\n",
              "  width: 1px;\n",
              "}\n",
              "\n",
              "#sk-container-id-4 div.sk-dashed-wrapped {\n",
              "  border: 1px dashed var(--sklearn-color-line);\n",
              "  margin: 0 0.4em 0.5em 0.4em;\n",
              "  box-sizing: border-box;\n",
              "  padding-bottom: 0.4em;\n",
              "  background-color: var(--sklearn-color-background);\n",
              "}\n",
              "\n",
              "#sk-container-id-4 div.sk-container {\n",
              "  /* jupyter's `normalize.less` sets `[hidden] { display: none; }`\n",
              "     but bootstrap.min.css set `[hidden] { display: none !important; }`\n",
              "     so we also need the `!important` here to be able to override the\n",
              "     default hidden behavior on the sphinx rendered scikit-learn.org.\n",
              "     See: https://github.com/scikit-learn/scikit-learn/issues/21755 */\n",
              "  display: inline-block !important;\n",
              "  position: relative;\n",
              "}\n",
              "\n",
              "#sk-container-id-4 div.sk-text-repr-fallback {\n",
              "  display: none;\n",
              "}\n",
              "\n",
              "div.sk-parallel-item,\n",
              "div.sk-serial,\n",
              "div.sk-item {\n",
              "  /* draw centered vertical line to link estimators */\n",
              "  background-image: linear-gradient(var(--sklearn-color-text-on-default-background), var(--sklearn-color-text-on-default-background));\n",
              "  background-size: 2px 100%;\n",
              "  background-repeat: no-repeat;\n",
              "  background-position: center center;\n",
              "}\n",
              "\n",
              "/* Parallel-specific style estimator block */\n",
              "\n",
              "#sk-container-id-4 div.sk-parallel-item::after {\n",
              "  content: \"\";\n",
              "  width: 100%;\n",
              "  border-bottom: 2px solid var(--sklearn-color-text-on-default-background);\n",
              "  flex-grow: 1;\n",
              "}\n",
              "\n",
              "#sk-container-id-4 div.sk-parallel {\n",
              "  display: flex;\n",
              "  align-items: stretch;\n",
              "  justify-content: center;\n",
              "  background-color: var(--sklearn-color-background);\n",
              "  position: relative;\n",
              "}\n",
              "\n",
              "#sk-container-id-4 div.sk-parallel-item {\n",
              "  display: flex;\n",
              "  flex-direction: column;\n",
              "}\n",
              "\n",
              "#sk-container-id-4 div.sk-parallel-item:first-child::after {\n",
              "  align-self: flex-end;\n",
              "  width: 50%;\n",
              "}\n",
              "\n",
              "#sk-container-id-4 div.sk-parallel-item:last-child::after {\n",
              "  align-self: flex-start;\n",
              "  width: 50%;\n",
              "}\n",
              "\n",
              "#sk-container-id-4 div.sk-parallel-item:only-child::after {\n",
              "  width: 0;\n",
              "}\n",
              "\n",
              "/* Serial-specific style estimator block */\n",
              "\n",
              "#sk-container-id-4 div.sk-serial {\n",
              "  display: flex;\n",
              "  flex-direction: column;\n",
              "  align-items: center;\n",
              "  background-color: var(--sklearn-color-background);\n",
              "  padding-right: 1em;\n",
              "  padding-left: 1em;\n",
              "}\n",
              "\n",
              "\n",
              "/* Toggleable style: style used for estimator/Pipeline/ColumnTransformer box that is\n",
              "clickable and can be expanded/collapsed.\n",
              "- Pipeline and ColumnTransformer use this feature and define the default style\n",
              "- Estimators will overwrite some part of the style using the `sk-estimator` class\n",
              "*/\n",
              "\n",
              "/* Pipeline and ColumnTransformer style (default) */\n",
              "\n",
              "#sk-container-id-4 div.sk-toggleable {\n",
              "  /* Default theme specific background. It is overwritten whether we have a\n",
              "  specific estimator or a Pipeline/ColumnTransformer */\n",
              "  background-color: var(--sklearn-color-background);\n",
              "}\n",
              "\n",
              "/* Toggleable label */\n",
              "#sk-container-id-4 label.sk-toggleable__label {\n",
              "  cursor: pointer;\n",
              "  display: flex;\n",
              "  width: 100%;\n",
              "  margin-bottom: 0;\n",
              "  padding: 0.5em;\n",
              "  box-sizing: border-box;\n",
              "  text-align: center;\n",
              "  align-items: start;\n",
              "  justify-content: space-between;\n",
              "  gap: 0.5em;\n",
              "}\n",
              "\n",
              "#sk-container-id-4 label.sk-toggleable__label .caption {\n",
              "  font-size: 0.6rem;\n",
              "  font-weight: lighter;\n",
              "  color: var(--sklearn-color-text-muted);\n",
              "}\n",
              "\n",
              "#sk-container-id-4 label.sk-toggleable__label-arrow:before {\n",
              "  /* Arrow on the left of the label */\n",
              "  content: \"▸\";\n",
              "  float: left;\n",
              "  margin-right: 0.25em;\n",
              "  color: var(--sklearn-color-icon);\n",
              "}\n",
              "\n",
              "#sk-container-id-4 label.sk-toggleable__label-arrow:hover:before {\n",
              "  color: var(--sklearn-color-text);\n",
              "}\n",
              "\n",
              "/* Toggleable content - dropdown */\n",
              "\n",
              "#sk-container-id-4 div.sk-toggleable__content {\n",
              "  max-height: 0;\n",
              "  max-width: 0;\n",
              "  overflow: hidden;\n",
              "  text-align: left;\n",
              "  /* unfitted */\n",
              "  background-color: var(--sklearn-color-unfitted-level-0);\n",
              "}\n",
              "\n",
              "#sk-container-id-4 div.sk-toggleable__content.fitted {\n",
              "  /* fitted */\n",
              "  background-color: var(--sklearn-color-fitted-level-0);\n",
              "}\n",
              "\n",
              "#sk-container-id-4 div.sk-toggleable__content pre {\n",
              "  margin: 0.2em;\n",
              "  border-radius: 0.25em;\n",
              "  color: var(--sklearn-color-text);\n",
              "  /* unfitted */\n",
              "  background-color: var(--sklearn-color-unfitted-level-0);\n",
              "}\n",
              "\n",
              "#sk-container-id-4 div.sk-toggleable__content.fitted pre {\n",
              "  /* unfitted */\n",
              "  background-color: var(--sklearn-color-fitted-level-0);\n",
              "}\n",
              "\n",
              "#sk-container-id-4 input.sk-toggleable__control:checked~div.sk-toggleable__content {\n",
              "  /* Expand drop-down */\n",
              "  max-height: 200px;\n",
              "  max-width: 100%;\n",
              "  overflow: auto;\n",
              "}\n",
              "\n",
              "#sk-container-id-4 input.sk-toggleable__control:checked~label.sk-toggleable__label-arrow:before {\n",
              "  content: \"▾\";\n",
              "}\n",
              "\n",
              "/* Pipeline/ColumnTransformer-specific style */\n",
              "\n",
              "#sk-container-id-4 div.sk-label input.sk-toggleable__control:checked~label.sk-toggleable__label {\n",
              "  color: var(--sklearn-color-text);\n",
              "  background-color: var(--sklearn-color-unfitted-level-2);\n",
              "}\n",
              "\n",
              "#sk-container-id-4 div.sk-label.fitted input.sk-toggleable__control:checked~label.sk-toggleable__label {\n",
              "  background-color: var(--sklearn-color-fitted-level-2);\n",
              "}\n",
              "\n",
              "/* Estimator-specific style */\n",
              "\n",
              "/* Colorize estimator box */\n",
              "#sk-container-id-4 div.sk-estimator input.sk-toggleable__control:checked~label.sk-toggleable__label {\n",
              "  /* unfitted */\n",
              "  background-color: var(--sklearn-color-unfitted-level-2);\n",
              "}\n",
              "\n",
              "#sk-container-id-4 div.sk-estimator.fitted input.sk-toggleable__control:checked~label.sk-toggleable__label {\n",
              "  /* fitted */\n",
              "  background-color: var(--sklearn-color-fitted-level-2);\n",
              "}\n",
              "\n",
              "#sk-container-id-4 div.sk-label label.sk-toggleable__label,\n",
              "#sk-container-id-4 div.sk-label label {\n",
              "  /* The background is the default theme color */\n",
              "  color: var(--sklearn-color-text-on-default-background);\n",
              "}\n",
              "\n",
              "/* On hover, darken the color of the background */\n",
              "#sk-container-id-4 div.sk-label:hover label.sk-toggleable__label {\n",
              "  color: var(--sklearn-color-text);\n",
              "  background-color: var(--sklearn-color-unfitted-level-2);\n",
              "}\n",
              "\n",
              "/* Label box, darken color on hover, fitted */\n",
              "#sk-container-id-4 div.sk-label.fitted:hover label.sk-toggleable__label.fitted {\n",
              "  color: var(--sklearn-color-text);\n",
              "  background-color: var(--sklearn-color-fitted-level-2);\n",
              "}\n",
              "\n",
              "/* Estimator label */\n",
              "\n",
              "#sk-container-id-4 div.sk-label label {\n",
              "  font-family: monospace;\n",
              "  font-weight: bold;\n",
              "  display: inline-block;\n",
              "  line-height: 1.2em;\n",
              "}\n",
              "\n",
              "#sk-container-id-4 div.sk-label-container {\n",
              "  text-align: center;\n",
              "}\n",
              "\n",
              "/* Estimator-specific */\n",
              "#sk-container-id-4 div.sk-estimator {\n",
              "  font-family: monospace;\n",
              "  border: 1px dotted var(--sklearn-color-border-box);\n",
              "  border-radius: 0.25em;\n",
              "  box-sizing: border-box;\n",
              "  margin-bottom: 0.5em;\n",
              "  /* unfitted */\n",
              "  background-color: var(--sklearn-color-unfitted-level-0);\n",
              "}\n",
              "\n",
              "#sk-container-id-4 div.sk-estimator.fitted {\n",
              "  /* fitted */\n",
              "  background-color: var(--sklearn-color-fitted-level-0);\n",
              "}\n",
              "\n",
              "/* on hover */\n",
              "#sk-container-id-4 div.sk-estimator:hover {\n",
              "  /* unfitted */\n",
              "  background-color: var(--sklearn-color-unfitted-level-2);\n",
              "}\n",
              "\n",
              "#sk-container-id-4 div.sk-estimator.fitted:hover {\n",
              "  /* fitted */\n",
              "  background-color: var(--sklearn-color-fitted-level-2);\n",
              "}\n",
              "\n",
              "/* Specification for estimator info (e.g. \"i\" and \"?\") */\n",
              "\n",
              "/* Common style for \"i\" and \"?\" */\n",
              "\n",
              ".sk-estimator-doc-link,\n",
              "a:link.sk-estimator-doc-link,\n",
              "a:visited.sk-estimator-doc-link {\n",
              "  float: right;\n",
              "  font-size: smaller;\n",
              "  line-height: 1em;\n",
              "  font-family: monospace;\n",
              "  background-color: var(--sklearn-color-background);\n",
              "  border-radius: 1em;\n",
              "  height: 1em;\n",
              "  width: 1em;\n",
              "  text-decoration: none !important;\n",
              "  margin-left: 0.5em;\n",
              "  text-align: center;\n",
              "  /* unfitted */\n",
              "  border: var(--sklearn-color-unfitted-level-1) 1pt solid;\n",
              "  color: var(--sklearn-color-unfitted-level-1);\n",
              "}\n",
              "\n",
              ".sk-estimator-doc-link.fitted,\n",
              "a:link.sk-estimator-doc-link.fitted,\n",
              "a:visited.sk-estimator-doc-link.fitted {\n",
              "  /* fitted */\n",
              "  border: var(--sklearn-color-fitted-level-1) 1pt solid;\n",
              "  color: var(--sklearn-color-fitted-level-1);\n",
              "}\n",
              "\n",
              "/* On hover */\n",
              "div.sk-estimator:hover .sk-estimator-doc-link:hover,\n",
              ".sk-estimator-doc-link:hover,\n",
              "div.sk-label-container:hover .sk-estimator-doc-link:hover,\n",
              ".sk-estimator-doc-link:hover {\n",
              "  /* unfitted */\n",
              "  background-color: var(--sklearn-color-unfitted-level-3);\n",
              "  color: var(--sklearn-color-background);\n",
              "  text-decoration: none;\n",
              "}\n",
              "\n",
              "div.sk-estimator.fitted:hover .sk-estimator-doc-link.fitted:hover,\n",
              ".sk-estimator-doc-link.fitted:hover,\n",
              "div.sk-label-container:hover .sk-estimator-doc-link.fitted:hover,\n",
              ".sk-estimator-doc-link.fitted:hover {\n",
              "  /* fitted */\n",
              "  background-color: var(--sklearn-color-fitted-level-3);\n",
              "  color: var(--sklearn-color-background);\n",
              "  text-decoration: none;\n",
              "}\n",
              "\n",
              "/* Span, style for the box shown on hovering the info icon */\n",
              ".sk-estimator-doc-link span {\n",
              "  display: none;\n",
              "  z-index: 9999;\n",
              "  position: relative;\n",
              "  font-weight: normal;\n",
              "  right: .2ex;\n",
              "  padding: .5ex;\n",
              "  margin: .5ex;\n",
              "  width: min-content;\n",
              "  min-width: 20ex;\n",
              "  max-width: 50ex;\n",
              "  color: var(--sklearn-color-text);\n",
              "  box-shadow: 2pt 2pt 4pt #999;\n",
              "  /* unfitted */\n",
              "  background: var(--sklearn-color-unfitted-level-0);\n",
              "  border: .5pt solid var(--sklearn-color-unfitted-level-3);\n",
              "}\n",
              "\n",
              ".sk-estimator-doc-link.fitted span {\n",
              "  /* fitted */\n",
              "  background: var(--sklearn-color-fitted-level-0);\n",
              "  border: var(--sklearn-color-fitted-level-3);\n",
              "}\n",
              "\n",
              ".sk-estimator-doc-link:hover span {\n",
              "  display: block;\n",
              "}\n",
              "\n",
              "/* \"?\"-specific style due to the `<a>` HTML tag */\n",
              "\n",
              "#sk-container-id-4 a.estimator_doc_link {\n",
              "  float: right;\n",
              "  font-size: 1rem;\n",
              "  line-height: 1em;\n",
              "  font-family: monospace;\n",
              "  background-color: var(--sklearn-color-background);\n",
              "  border-radius: 1rem;\n",
              "  height: 1rem;\n",
              "  width: 1rem;\n",
              "  text-decoration: none;\n",
              "  /* unfitted */\n",
              "  color: var(--sklearn-color-unfitted-level-1);\n",
              "  border: var(--sklearn-color-unfitted-level-1) 1pt solid;\n",
              "}\n",
              "\n",
              "#sk-container-id-4 a.estimator_doc_link.fitted {\n",
              "  /* fitted */\n",
              "  border: var(--sklearn-color-fitted-level-1) 1pt solid;\n",
              "  color: var(--sklearn-color-fitted-level-1);\n",
              "}\n",
              "\n",
              "/* On hover */\n",
              "#sk-container-id-4 a.estimator_doc_link:hover {\n",
              "  /* unfitted */\n",
              "  background-color: var(--sklearn-color-unfitted-level-3);\n",
              "  color: var(--sklearn-color-background);\n",
              "  text-decoration: none;\n",
              "}\n",
              "\n",
              "#sk-container-id-4 a.estimator_doc_link.fitted:hover {\n",
              "  /* fitted */\n",
              "  background-color: var(--sklearn-color-fitted-level-3);\n",
              "}\n",
              "</style><div id=\"sk-container-id-4\" class=\"sk-top-container\"><div class=\"sk-text-repr-fallback\"><pre>Pipeline(steps=[(&#x27;preprocessor&#x27;,\n",
              "                 ColumnTransformer(remainder=&#x27;passthrough&#x27;,\n",
              "                                   transformers=[(&#x27;num&#x27;, StandardScaler(),\n",
              "                                                  [&#x27;DEMANDAPROV&#x27;]),\n",
              "                                                 (&#x27;cat&#x27;,\n",
              "                                                  OneHotEncoder(handle_unknown=&#x27;ignore&#x27;),\n",
              "                                                  [&#x27;PROVINCIAS&#x27;, &#x27;TIPODIA&#x27;])])),\n",
              "                (&#x27;classifier&#x27;,\n",
              "                 RandomForestClassifier(class_weight=&#x27;balanced&#x27;,\n",
              "                                        random_state=42))])</pre><b>In a Jupyter environment, please rerun this cell to show the HTML representation or trust the notebook. <br />On GitHub, the HTML representation is unable to render, please try loading this page with nbviewer.org.</b></div><div class=\"sk-container\" hidden><div class=\"sk-item sk-dashed-wrapped\"><div class=\"sk-label-container\"><div class=\"sk-label fitted sk-toggleable\"><input class=\"sk-toggleable__control sk-hidden--visually\" id=\"sk-estimator-id-24\" type=\"checkbox\" ><label for=\"sk-estimator-id-24\" class=\"sk-toggleable__label fitted sk-toggleable__label-arrow\"><div><div>Pipeline</div></div><div><a class=\"sk-estimator-doc-link fitted\" rel=\"noreferrer\" target=\"_blank\" href=\"https://scikit-learn.org/1.6/modules/generated/sklearn.pipeline.Pipeline.html\">?<span>Documentation for Pipeline</span></a><span class=\"sk-estimator-doc-link fitted\">i<span>Fitted</span></span></div></label><div class=\"sk-toggleable__content fitted\"><pre>Pipeline(steps=[(&#x27;preprocessor&#x27;,\n",
              "                 ColumnTransformer(remainder=&#x27;passthrough&#x27;,\n",
              "                                   transformers=[(&#x27;num&#x27;, StandardScaler(),\n",
              "                                                  [&#x27;DEMANDAPROV&#x27;]),\n",
              "                                                 (&#x27;cat&#x27;,\n",
              "                                                  OneHotEncoder(handle_unknown=&#x27;ignore&#x27;),\n",
              "                                                  [&#x27;PROVINCIAS&#x27;, &#x27;TIPODIA&#x27;])])),\n",
              "                (&#x27;classifier&#x27;,\n",
              "                 RandomForestClassifier(class_weight=&#x27;balanced&#x27;,\n",
              "                                        random_state=42))])</pre></div> </div></div><div class=\"sk-serial\"><div class=\"sk-item sk-dashed-wrapped\"><div class=\"sk-label-container\"><div class=\"sk-label fitted sk-toggleable\"><input class=\"sk-toggleable__control sk-hidden--visually\" id=\"sk-estimator-id-25\" type=\"checkbox\" ><label for=\"sk-estimator-id-25\" class=\"sk-toggleable__label fitted sk-toggleable__label-arrow\"><div><div>preprocessor: ColumnTransformer</div></div><div><a class=\"sk-estimator-doc-link fitted\" rel=\"noreferrer\" target=\"_blank\" href=\"https://scikit-learn.org/1.6/modules/generated/sklearn.compose.ColumnTransformer.html\">?<span>Documentation for preprocessor: ColumnTransformer</span></a></div></label><div class=\"sk-toggleable__content fitted\"><pre>ColumnTransformer(remainder=&#x27;passthrough&#x27;,\n",
              "                  transformers=[(&#x27;num&#x27;, StandardScaler(), [&#x27;DEMANDAPROV&#x27;]),\n",
              "                                (&#x27;cat&#x27;, OneHotEncoder(handle_unknown=&#x27;ignore&#x27;),\n",
              "                                 [&#x27;PROVINCIAS&#x27;, &#x27;TIPODIA&#x27;])])</pre></div> </div></div><div class=\"sk-parallel\"><div class=\"sk-parallel-item\"><div class=\"sk-item\"><div class=\"sk-label-container\"><div class=\"sk-label fitted sk-toggleable\"><input class=\"sk-toggleable__control sk-hidden--visually\" id=\"sk-estimator-id-26\" type=\"checkbox\" ><label for=\"sk-estimator-id-26\" class=\"sk-toggleable__label fitted sk-toggleable__label-arrow\"><div><div>num</div></div></label><div class=\"sk-toggleable__content fitted\"><pre>[&#x27;DEMANDAPROV&#x27;]</pre></div> </div></div><div class=\"sk-serial\"><div class=\"sk-item\"><div class=\"sk-estimator fitted sk-toggleable\"><input class=\"sk-toggleable__control sk-hidden--visually\" id=\"sk-estimator-id-27\" type=\"checkbox\" ><label for=\"sk-estimator-id-27\" class=\"sk-toggleable__label fitted sk-toggleable__label-arrow\"><div><div>StandardScaler</div></div><div><a class=\"sk-estimator-doc-link fitted\" rel=\"noreferrer\" target=\"_blank\" href=\"https://scikit-learn.org/1.6/modules/generated/sklearn.preprocessing.StandardScaler.html\">?<span>Documentation for StandardScaler</span></a></div></label><div class=\"sk-toggleable__content fitted\"><pre>StandardScaler()</pre></div> </div></div></div></div></div><div class=\"sk-parallel-item\"><div class=\"sk-item\"><div class=\"sk-label-container\"><div class=\"sk-label fitted sk-toggleable\"><input class=\"sk-toggleable__control sk-hidden--visually\" id=\"sk-estimator-id-28\" type=\"checkbox\" ><label for=\"sk-estimator-id-28\" class=\"sk-toggleable__label fitted sk-toggleable__label-arrow\"><div><div>cat</div></div></label><div class=\"sk-toggleable__content fitted\"><pre>[&#x27;PROVINCIAS&#x27;, &#x27;TIPODIA&#x27;]</pre></div> </div></div><div class=\"sk-serial\"><div class=\"sk-item\"><div class=\"sk-estimator fitted sk-toggleable\"><input class=\"sk-toggleable__control sk-hidden--visually\" id=\"sk-estimator-id-29\" type=\"checkbox\" ><label for=\"sk-estimator-id-29\" class=\"sk-toggleable__label fitted sk-toggleable__label-arrow\"><div><div>OneHotEncoder</div></div><div><a class=\"sk-estimator-doc-link fitted\" rel=\"noreferrer\" target=\"_blank\" href=\"https://scikit-learn.org/1.6/modules/generated/sklearn.preprocessing.OneHotEncoder.html\">?<span>Documentation for OneHotEncoder</span></a></div></label><div class=\"sk-toggleable__content fitted\"><pre>OneHotEncoder(handle_unknown=&#x27;ignore&#x27;)</pre></div> </div></div></div></div></div><div class=\"sk-parallel-item\"><div class=\"sk-item\"><div class=\"sk-label-container\"><div class=\"sk-label fitted sk-toggleable\"><input class=\"sk-toggleable__control sk-hidden--visually\" id=\"sk-estimator-id-30\" type=\"checkbox\" ><label for=\"sk-estimator-id-30\" class=\"sk-toggleable__label fitted sk-toggleable__label-arrow\"><div><div>remainder</div></div></label><div class=\"sk-toggleable__content fitted\"><pre>[&#x27;HORA&#x27;]</pre></div> </div></div><div class=\"sk-serial\"><div class=\"sk-item\"><div class=\"sk-estimator fitted sk-toggleable\"><input class=\"sk-toggleable__control sk-hidden--visually\" id=\"sk-estimator-id-31\" type=\"checkbox\" ><label for=\"sk-estimator-id-31\" class=\"sk-toggleable__label fitted sk-toggleable__label-arrow\"><div><div>passthrough</div></div></label><div class=\"sk-toggleable__content fitted\"><pre>passthrough</pre></div> </div></div></div></div></div></div></div><div class=\"sk-item\"><div class=\"sk-estimator fitted sk-toggleable\"><input class=\"sk-toggleable__control sk-hidden--visually\" id=\"sk-estimator-id-32\" type=\"checkbox\" ><label for=\"sk-estimator-id-32\" class=\"sk-toggleable__label fitted sk-toggleable__label-arrow\"><div><div>RandomForestClassifier</div></div><div><a class=\"sk-estimator-doc-link fitted\" rel=\"noreferrer\" target=\"_blank\" href=\"https://scikit-learn.org/1.6/modules/generated/sklearn.ensemble.RandomForestClassifier.html\">?<span>Documentation for RandomForestClassifier</span></a></div></label><div class=\"sk-toggleable__content fitted\"><pre>RandomForestClassifier(class_weight=&#x27;balanced&#x27;, random_state=42)</pre></div> </div></div></div></div></div></div>"
            ]
          },
          "metadata": {},
          "execution_count": 202
        }
      ]
    },
    {
      "cell_type": "markdown",
      "source": [
        "## 9.Evaluación del Modelo"
      ],
      "metadata": {
        "id": "GLFndg6rGC-c"
      }
    },
    {
      "cell_type": "code",
      "source": [
        "# Realizar predicciones en el conjunto de prueba\n",
        "y_pred = model_pipeline.predict(X_test)\n",
        "y_pred_proba = model_pipeline.predict_proba(X_test)[:, 1] # Probabilidades para la clase positiva (1)"
      ],
      "metadata": {
        "id": "CzKl4GKtTvD6"
      },
      "execution_count": 203,
      "outputs": []
    },
    {
      "cell_type": "markdown",
      "source": [
        "# 9.1 Accuracy"
      ],
      "metadata": {
        "id": "6eNUcK8JVWe3"
      }
    },
    {
      "cell_type": "code",
      "source": [
        "accuracy = accuracy_score(y_test, y_pred)\n",
        "print(f\"--- Accuracy Score ---\")\n",
        "print(f\"Accuracy en el conjunto de prueba: {accuracy:.4f}\")"
      ],
      "metadata": {
        "colab": {
          "base_uri": "https://localhost:8080/"
        },
        "id": "kDlRQtDdUQ49",
        "outputId": "1e70e5d1-9a66-4675-dbcc-d69a1670075d"
      },
      "execution_count": 205,
      "outputs": [
        {
          "output_type": "stream",
          "name": "stdout",
          "text": [
            "--- Accuracy Score ---\n",
            "Accuracy en el conjunto de prueba: 0.9991\n"
          ]
        }
      ]
    },
    {
      "cell_type": "markdown",
      "source": [
        "Con accuracy 0,99 se indica que el modelo clasifica correctamente los datos de pruebaen un 99%"
      ],
      "metadata": {
        "id": "D4IoQ5xTU2uO"
      }
    },
    {
      "cell_type": "markdown",
      "source": [
        "#9.2 Matriz de confusión"
      ],
      "metadata": {
        "id": "RFLA9R5VVR-T"
      }
    },
    {
      "cell_type": "code",
      "source": [
        "print(\"\\n--- Matriz de Confusión ---\")\n",
        "cm = confusion_matrix(y_test, y_pred)\n",
        "plt.figure(figsize=(6, 5))\n",
        "sns.heatmap(cm, annot=True, fmt='d', cmap='Blues', xticklabels=['Pred No (0)', 'Pred Sí (1)'], yticklabels=['Real No (0)', 'Real Sí (1)'])\n",
        "plt.xlabel('Predicción')\n",
        "plt.ylabel('Valor Real')\n",
        "plt.title('Matriz de Confusión')\n",
        "plt.show()\n",
        "print(f\"Verdaderos Negativos (TN): {cm[0,0]}\")\n",
        "print(f\"Falsos Positivos (FP): {cm[0,1]}\")\n",
        "print(f\"Falsos Negativos (FN): {cm[1,0]}\")\n",
        "print(f\"Verdaderos Positivos (TP): {cm[1,1]}\")"
      ],
      "metadata": {
        "colab": {
          "base_uri": "https://localhost:8080/",
          "height": 596
        },
        "id": "FHI5g249VI8e",
        "outputId": "398dfd96-2491-4435-dc2f-586fc98befe9"
      },
      "execution_count": 206,
      "outputs": [
        {
          "output_type": "stream",
          "name": "stdout",
          "text": [
            "\n",
            "--- Matriz de Confusión ---\n"
          ]
        },
        {
          "output_type": "display_data",
          "data": {
            "text/plain": [
              "<Figure size 600x500 with 2 Axes>"
            ],
            "image/png": "[encoded data removed]"
          },
          "metadata": {}
        },
        {
          "output_type": "stream",
          "name": "stdout",
          "text": [
            "Verdaderos Negativos (TN): 25406\n",
            "Falsos Positivos (FP): 5\n",
            "Falsos Negativos (FN): 22\n",
            "Verdaderos Positivos (TP): 6330\n"
          ]
        }
      ]
    },
    {
      "cell_type": "markdown",
      "source": [
        "El modelo indico 22 veces que habia alta demanda cuando en realidad era baja demanda y 5 veces que habia baja demanda cuando en realidad era alta demanda.\n",
        "En el contexto de la demanda electrica las 5 veces queindico baja demanda es mas critica que las 22 veces que indico alta demanda porque con alta demanda los sistemas ya pueden estar cubiertos y planificados para alta demanda.\n",
        "Al indicar baja demanda cuando hay alta demanda es critico porque afecta a la estabilidad de la red y puede geenrar cortes de suministros en horas pico."
      ],
      "metadata": {
        "id": "rJIupceBWDHU"
      }
    },
    {
      "cell_type": "markdown",
      "source": [
        "# 9.3 Reporte de Clasificación (Precisión, Recall, F1-Score)"
      ],
      "metadata": {
        "id": "mBhjazxbX65W"
      }
    },
    {
      "cell_type": "code",
      "source": [
        "target_names = ['Baja Demanda (0)', 'Alta Demanda (1)']\n",
        "print(classification_report(y_test, y_pred, target_names=target_names))"
      ],
      "metadata": {
        "colab": {
          "base_uri": "https://localhost:8080/"
        },
        "id": "r1M9iUlpX1NC",
        "outputId": "46b94a13-ac0e-4393-85ab-fb4d1074c690"
      },
      "execution_count": 207,
      "outputs": [
        {
          "output_type": "stream",
          "name": "stdout",
          "text": [
            "                  precision    recall  f1-score   support\n",
            "\n",
            "Baja Demanda (0)       1.00      1.00      1.00     25411\n",
            "Alta Demanda (1)       1.00      1.00      1.00      6352\n",
            "\n",
            "        accuracy                           1.00     31763\n",
            "       macro avg       1.00      1.00      1.00     31763\n",
            "    weighted avg       1.00      1.00      1.00     31763\n",
            "\n"
          ]
        }
      ]
    },
    {
      "cell_type": "markdown",
      "source": [
        "El modelo muestra una presición, recall y F1-Score de 1. Se puede inferir overfitting en el modelo."
      ],
      "metadata": {
        "id": "Oa44VwT5YnUn"
      }
    },
    {
      "cell_type": "markdown",
      "source": [
        "# 9.4 Curva ROC y AUC"
      ],
      "metadata": {
        "id": "yGGIWZQCZTMj"
      }
    },
    {
      "cell_type": "code",
      "source": [
        "y_pred_proba = model_pipeline.predict_proba(X_test)[:, 1]\n",
        "fpr, tpr, _ = roc_curve(y_test, y_pred_proba)\n",
        "roc_auc = auc(fpr, tpr)"
      ],
      "metadata": {
        "id": "SXvsO4FJZHfk"
      },
      "execution_count": 239,
      "outputs": []
    },
    {
      "cell_type": "code",
      "source": [
        "plt.figure(figsize=(8, 6))\n",
        "plt.plot(fpr, tpr, color='darkorange', lw=2, label=f'Curva ROC (AUC = {roc_auc:.2f})')\n",
        "plt.plot([0, 1], [0, 1], color='navy', lw=2, linestyle='--', label='Azar (AUC = 0.5)')\n",
        "plt.xlim([0.0, 1.0])\n",
        "plt.ylim([0.0, 1.05])\n",
        "plt.xlabel('Tasa de Falsos Positivos (FPR)')\n",
        "plt.ylabel('Tasa de Verdaderos Positivos (TPR)')\n",
        "plt.title('Curva ROC (Receiver Operating Characteristic)')\n",
        "plt.legend(loc=\"lower right\")\n",
        "plt.show()"
      ],
      "metadata": {
        "colab": {
          "base_uri": "https://localhost:8080/",
          "height": 564
        },
        "id": "W05bj_WwYxGD",
        "outputId": "334a2dcd-1a2b-4414-d56c-26c0e8bccd91"
      },
      "execution_count": 270,
      "outputs": [
        {
          "output_type": "display_data",
          "data": {
            "text/plain": [
              "<Figure size 800x600 with 1 Axes>"
            ],
            "image/png": "[encoded data removed]"
          },
          "metadata": {}
        }
      ]
    },
    {
      "cell_type": "code",
      "source": [
        "print(f\"Área Bajo la Curva ROC (AUC): {roc_auc:.4f}\")"
      ],
      "metadata": {
        "colab": {
          "base_uri": "https://localhost:8080/"
        },
        "id": "pHbRGb40Ym-y",
        "outputId": "7aa85d1f-b63d-4e13-af60-35487a89ca88"
      },
      "execution_count": 210,
      "outputs": [
        {
          "output_type": "stream",
          "name": "stdout",
          "text": [
            "Área Bajo la Curva ROC (AUC): 1.0000\n"
          ]
        }
      ]
    },
    {
      "cell_type": "markdown",
      "source": [
        "## 10.Análisis de Importancia de Características"
      ],
      "metadata": {
        "id": "0ux56FYIGOXG"
      }
    },
    {
      "cell_type": "markdown",
      "source": [
        "Identificar qué variables son más influyentes."
      ],
      "metadata": {
        "id": "nqFMS1YsGRvW"
      }
    },
    {
      "cell_type": "code",
      "source": [
        "# Para obtener la importancia, necesitamos acceder al clasificador DENTRO del pipeline\n",
        "rf_classifier = model_pipeline.named_steps['classifier']\n",
        "importances = rf_classifier.feature_importances_"
      ],
      "metadata": {
        "id": "fu5VfuE1dMCc"
      },
      "execution_count": 283,
      "outputs": []
    },
    {
      "cell_type": "code",
      "source": [
        "# Obtener el transformador OneHotEncoder del preprocesador\n",
        "ohe_transformer = model_pipeline.named_steps['preprocessor'].transformers_[1][1]\n",
        "# Obtener las categorías de las características codificadas\n",
        "ohe_categories = ohe_transformer.categories_"
      ],
      "metadata": {
        "id": "vLh3iZy9dNiM"
      },
      "execution_count": 284,
      "outputs": []
    },
    {
      "cell_type": "code",
      "source": [
        "ohe_categories"
      ],
      "metadata": {
        "colab": {
          "base_uri": "https://localhost:8080/"
        },
        "id": "HKQqDYMBdQlF",
        "outputId": "75bfe791-7ff3-4e1a-e261-8a3870c4bfff"
      },
      "execution_count": 292,
      "outputs": [
        {
          "output_type": "execute_result",
          "data": {
            "text/plain": [
              "[array(['BUENOSAIRES', 'CATAMARCA', 'CHACO', 'CHUBUT', 'CORDOBA',\n",
              "        'CORRIENTES', 'ENTRERIOS', 'FORMOSA', 'JUJUY', 'LAPAMPA',\n",
              "        'LARIOJA', 'MENDOZA', 'MISIONES', 'NEUQUEN', 'RIONEGRO', 'SALTA',\n",
              "        'SANJUAN', 'SANLUIS', 'SANTACRUZ', 'SANTAFE', 'SGODELESTERO',\n",
              "        'TUCUMAN'], dtype=object),\n",
              " array(['Hábil', 'No Hábil'], dtype=object)]"
            ]
          },
          "metadata": {},
          "execution_count": 292
        }
      ]
    },
    {
      "cell_type": "code",
      "source": [
        "# Crear los nombres de las características codificadas\n",
        "# Nota: Asegúrate de que el orden en 'categorical_features_for_encoding' coincide con el usado en ColumnTransformer\n",
        "ohe_feature_names = []\n",
        "for i, col in enumerate(categorical_features_for_encoding):\n",
        "    for category in ohe_categories[i]:\n",
        "        ohe_feature_names.append(f\"{col}_{category}\")"
      ],
      "metadata": {
        "id": "tKfNUpQ_dTQW"
      },
      "execution_count": 293,
      "outputs": []
    },
    {
      "cell_type": "code",
      "source": [
        "ohe_feature_names"
      ],
      "metadata": {
        "colab": {
          "base_uri": "https://localhost:8080/"
        },
        "id": "fU5T7dUPdZ0k",
        "outputId": "8c6f9f38-d554-42a0-af5f-f3a15d7f9536"
      },
      "execution_count": 310,
      "outputs": [
        {
          "output_type": "execute_result",
          "data": {
            "text/plain": [
              "['PROVINCIAS_BUENOSAIRES',\n",
              " 'PROVINCIAS_CATAMARCA',\n",
              " 'PROVINCIAS_CHACO',\n",
              " 'PROVINCIAS_CHUBUT',\n",
              " 'PROVINCIAS_CORDOBA',\n",
              " 'PROVINCIAS_CORRIENTES',\n",
              " 'PROVINCIAS_ENTRERIOS',\n",
              " 'PROVINCIAS_FORMOSA',\n",
              " 'PROVINCIAS_JUJUY',\n",
              " 'PROVINCIAS_LAPAMPA',\n",
              " 'PROVINCIAS_LARIOJA',\n",
              " 'PROVINCIAS_MENDOZA',\n",
              " 'PROVINCIAS_MISIONES',\n",
              " 'PROVINCIAS_NEUQUEN',\n",
              " 'PROVINCIAS_RIONEGRO',\n",
              " 'PROVINCIAS_SALTA',\n",
              " 'PROVINCIAS_SANJUAN',\n",
              " 'PROVINCIAS_SANLUIS',\n",
              " 'PROVINCIAS_SANTACRUZ',\n",
              " 'PROVINCIAS_SANTAFE',\n",
              " 'PROVINCIAS_SGODELESTERO',\n",
              " 'PROVINCIAS_TUCUMAN',\n",
              " 'TIPODIA_Hábil',\n",
              " 'TIPODIA_No Hábil']"
            ]
          },
          "metadata": {},
          "execution_count": 310
        }
      ]
    },
    {
      "cell_type": "code",
      "source": [
        "# Combinar nombres de características numéricas y categóricas codificadas\n",
        "# El orden debe coincidir con cómo ColumnTransformer junta las columnas\n",
        "final_feature_names = numerical_features_for_scaling + ohe_feature_names"
      ],
      "metadata": {
        "id": "nMKezSD3dfp8"
      },
      "execution_count": 295,
      "outputs": []
    },
    {
      "cell_type": "code",
      "source": [
        "print(final_feature_names)"
      ],
      "metadata": {
        "colab": {
          "base_uri": "https://localhost:8080/"
        },
        "id": "CqxNcE3ZhAet",
        "outputId": "db3db692-5893-49e5-efe9-842cb1ff48f5"
      },
      "execution_count": 296,
      "outputs": [
        {
          "output_type": "stream",
          "name": "stdout",
          "text": [
            "['DEMANDAPROV', 'PROVINCIAS_BUENOSAIRES', 'PROVINCIAS_CATAMARCA', 'PROVINCIAS_CHACO', 'PROVINCIAS_CHUBUT', 'PROVINCIAS_CORDOBA', 'PROVINCIAS_CORRIENTES', 'PROVINCIAS_ENTRERIOS', 'PROVINCIAS_FORMOSA', 'PROVINCIAS_JUJUY', 'PROVINCIAS_LAPAMPA', 'PROVINCIAS_LARIOJA', 'PROVINCIAS_MENDOZA', 'PROVINCIAS_MISIONES', 'PROVINCIAS_NEUQUEN', 'PROVINCIAS_RIONEGRO', 'PROVINCIAS_SALTA', 'PROVINCIAS_SANJUAN', 'PROVINCIAS_SANLUIS', 'PROVINCIAS_SANTACRUZ', 'PROVINCIAS_SANTAFE', 'PROVINCIAS_SGODELESTERO', 'PROVINCIAS_TUCUMAN', 'TIPODIA_Hábil', 'TIPODIA_No Hábil']\n"
          ]
        }
      ]
    },
    {
      "cell_type": "code",
      "source": [
        "print(len(importances), len(final_feature_names))\n"
      ],
      "metadata": {
        "colab": {
          "base_uri": "https://localhost:8080/"
        },
        "id": "3w9DAqkykNT-",
        "outputId": "c3c845ff-71cd-4520-c555-0f47309f5b34"
      },
      "execution_count": 324,
      "outputs": [
        {
          "output_type": "stream",
          "name": "stdout",
          "text": [
            "26 25\n"
          ]
        }
      ]
    },
    {
      "cell_type": "code",
      "source": [
        "importances = importances[:len(final_feature_names)]  # Se elimina el exceso de importances\n"
      ],
      "metadata": {
        "id": "B9X80NABkcol"
      },
      "execution_count": 327,
      "outputs": []
    },
    {
      "cell_type": "code",
      "source": [
        "print(len(importances), len(final_feature_names))"
      ],
      "metadata": {
        "colab": {
          "base_uri": "https://localhost:8080/"
        },
        "id": "EwIO-VT3ku5W",
        "outputId": "9083a8cd-5bea-4447-a4bc-f586f36bc70f"
      },
      "execution_count": 334,
      "outputs": [
        {
          "output_type": "stream",
          "name": "stdout",
          "text": [
            "25 25\n"
          ]
        }
      ]
    },
    {
      "cell_type": "code",
      "source": [
        "# Crear un DataFrame para visualizar la importancia\n",
        "if len(importances) == len(final_feature_names):\n",
        "  feature_importance_df=pd.DataFrame({'Feature': final_feature_names, 'Importance': importances})\n",
        "  feature_importance_df=feature_importance_df.sort_values(by='Importance', ascending=False)"
      ],
      "metadata": {
        "id": "U-spUtjgdiFP"
      },
      "execution_count": 335,
      "outputs": []
    },
    {
      "cell_type": "code",
      "source": [
        "print(\"Importancia de las características según Random Forest:\")\n",
        "print(feature_importance_df.head())"
      ],
      "metadata": {
        "colab": {
          "base_uri": "https://localhost:8080/"
        },
        "id": "lZWCOqRFj1mm",
        "outputId": "da3a4f5f-a437-4b2d-bbb6-292d2bcef8ef"
      },
      "execution_count": 336,
      "outputs": [
        {
          "output_type": "stream",
          "name": "stdout",
          "text": [
            "Importancia de las características según Random Forest:\n",
            "                 Feature  Importance\n",
            "0            DEMANDAPROV    0.722091\n",
            "10    PROVINCIAS_LAPAMPA    0.021480\n",
            "19  PROVINCIAS_SANTACRUZ    0.017491\n",
            "23         TIPODIA_Hábil    0.015163\n",
            "2   PROVINCIAS_CATAMARCA    0.014449\n"
          ]
        }
      ]
    },
    {
      "cell_type": "markdown",
      "source": [
        "## 11.Conclusiones"
      ],
      "metadata": {
        "id": "zqL2ziKsGVU3"
      }
    },
    {
      "cell_type": "code",
      "source": [
        "print(\"Resumen de Resultados:\")\n",
        "print(f\"- Accuracy del modelo en el conjunto de prueba: {accuracy:.4f}\")\n",
        "print(f\"- AUC del modelo en el conjunto de prueba: {roc_auc:.4f}\")\n",
        "print(\"- El reporte de clasificación muestra buena Precisión, Recall y F1-Score para ambas clases (0 y 1).\")"
      ],
      "metadata": {
        "id": "BXacF_ZLw7fE",
        "colab": {
          "base_uri": "https://localhost:8080/"
        },
        "outputId": "b30d6192-37bf-42c8-cbef-f9ab7f78887a"
      },
      "execution_count": 332,
      "outputs": [
        {
          "output_type": "stream",
          "name": "stdout",
          "text": [
            "Resumen de Resultados:\n",
            "- Accuracy del modelo en el conjunto de prueba: 0.9991\n",
            "- AUC del modelo en el conjunto de prueba: 1.0000\n",
            "- El reporte de clasificación muestra buena Precisión, Recall y F1-Score para ambas clases (0 y 1).\n"
          ]
        }
      ]
    },
    {
      "cell_type": "code",
      "execution_count": 337,
      "metadata": {
        "id": "gQUWxK4ZvQMQ",
        "colab": {
          "base_uri": "https://localhost:8080/"
        },
        "outputId": "a5a5322e-4ac6-40bd-b828-46902e4498dd"
      },
      "outputs": [
        {
          "output_type": "stream",
          "name": "stdout",
          "text": [
            "Obtuvimos una Accuracy de 1.00 y un AUC de 1.00.\n",
            "Con el accuracy se puede indicar que el modelo separa bien la alta y baja demanda. Sin embargo esto puede significar overfitting. La métricas de precisión pueden sugerir que no hay problemas de desbalance en la predicción ya que se utilizo class_weight='balanced' en el modelo.La variable tipo de día (hábil o no hábil) influye en la probabilidad de alta demanda, pero no tanto como la propia demanda.\n"
          ]
        }
      ],
      "source": [
        "print(f\"Obtuvimos una Accuracy de {accuracy:.2f} y un AUC de {roc_auc:.2f}.\")\n",
        "\n",
        "if accuracy > 0.75 and roc_auc > 0.5:\n",
        "    print(\"Con el accuracy se puede indicar que el modelo separa bien la alta y baja demanda. Sin embargo esto puede significar overfitting. La métricas de precisión pueden sugerir que no hay problemas de desbalance en la predicción ya que se utilizo class_weight='balanced' en el modelo.La variable tipo de día (hábil o no hábil) influye en la probabilidad de alta demanda, pero no tanto como la propia demanda.\"\n",
        "          )\n"
      ]
    }
  ]
}